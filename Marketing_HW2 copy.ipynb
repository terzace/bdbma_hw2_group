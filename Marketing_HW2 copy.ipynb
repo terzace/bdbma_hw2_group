{
 "cells": [
  {
   "cell_type": "markdown",
   "metadata": {
    "id": "338PW0VJ-bYw"
   },
   "source": [
    "### Task 1 - preliminary data processing"
   ]
  },
  {
   "cell_type": "code",
   "execution_count": 115,
   "metadata": {},
   "outputs": [],
   "source": [
    "import numpy as np\n",
    "import pandas as pd\n",
    "import matplotlib.pyplot as plt\n",
    "%matplotlib inline\n",
    "import seaborn as sns\n",
    "import datetime\n",
    "sns.set_style(\"whitegrid\")\n",
    "pd.options.display.max_colwidth = 18\n",
    "pd.options.display.max_columns = 50"
   ]
  },
  {
   "cell_type": "code",
   "execution_count": 116,
   "metadata": {},
   "outputs": [
    {
     "data": {
      "text/html": [
       "<div>\n",
       "<style scoped>\n",
       "    .dataframe tbody tr th:only-of-type {\n",
       "        vertical-align: middle;\n",
       "    }\n",
       "\n",
       "    .dataframe tbody tr th {\n",
       "        vertical-align: top;\n",
       "    }\n",
       "\n",
       "    .dataframe thead th {\n",
       "        text-align: right;\n",
       "    }\n",
       "</style>\n",
       "<table border=\"1\" class=\"dataframe\">\n",
       "  <thead>\n",
       "    <tr style=\"text-align: right;\">\n",
       "      <th></th>\n",
       "      <th>cust_id</th>\n",
       "      <th>open_dt</th>\n",
       "      <th>contact_dt</th>\n",
       "    </tr>\n",
       "  </thead>\n",
       "  <tbody>\n",
       "    <tr>\n",
       "      <th>0</th>\n",
       "      <td>2537ec14c2e5b8...</td>\n",
       "      <td>2021-08-19</td>\n",
       "      <td>2021-08-12</td>\n",
       "    </tr>\n",
       "    <tr>\n",
       "      <th>1</th>\n",
       "      <td>b6bc9799397f07...</td>\n",
       "      <td>2021-08-16</td>\n",
       "      <td>2021-08-13</td>\n",
       "    </tr>\n",
       "    <tr>\n",
       "      <th>2</th>\n",
       "      <td>d09ee17e668f22...</td>\n",
       "      <td>2021-08-21</td>\n",
       "      <td>2021-08-13</td>\n",
       "    </tr>\n",
       "    <tr>\n",
       "      <th>3</th>\n",
       "      <td>2323b4ae10e99e...</td>\n",
       "      <td>2021-08-23</td>\n",
       "      <td>2021-08-13</td>\n",
       "    </tr>\n",
       "    <tr>\n",
       "      <th>4</th>\n",
       "      <td>b056b9822c2208...</td>\n",
       "      <td>2021-08-23</td>\n",
       "      <td>2021-08-13</td>\n",
       "    </tr>\n",
       "    <tr>\n",
       "      <th>...</th>\n",
       "      <td>...</td>\n",
       "      <td>...</td>\n",
       "      <td>...</td>\n",
       "    </tr>\n",
       "    <tr>\n",
       "      <th>22990</th>\n",
       "      <td>f6b65467d1194e...</td>\n",
       "      <td>2021-08-16</td>\n",
       "      <td>2021-08-12</td>\n",
       "    </tr>\n",
       "    <tr>\n",
       "      <th>22991</th>\n",
       "      <td>3b7fff60c9a471...</td>\n",
       "      <td>2021-08-17</td>\n",
       "      <td>2021-08-12</td>\n",
       "    </tr>\n",
       "    <tr>\n",
       "      <th>22992</th>\n",
       "      <td>a2948d4605a1a1...</td>\n",
       "      <td>2021-08-23</td>\n",
       "      <td>2021-08-13</td>\n",
       "    </tr>\n",
       "    <tr>\n",
       "      <th>22993</th>\n",
       "      <td>8b7aa89d178880...</td>\n",
       "      <td>2021-08-14</td>\n",
       "      <td>2021-08-13</td>\n",
       "    </tr>\n",
       "    <tr>\n",
       "      <th>22994</th>\n",
       "      <td>7d48d9923ca978...</td>\n",
       "      <td>2021-08-14</td>\n",
       "      <td>2021-08-13</td>\n",
       "    </tr>\n",
       "  </tbody>\n",
       "</table>\n",
       "<p>22995 rows × 3 columns</p>\n",
       "</div>"
      ],
      "text/plain": [
       "                 cust_id     open_dt  contact_dt\n",
       "0      2537ec14c2e5b8...  2021-08-19  2021-08-12\n",
       "1      b6bc9799397f07...  2021-08-16  2021-08-13\n",
       "2      d09ee17e668f22...  2021-08-21  2021-08-13\n",
       "3      2323b4ae10e99e...  2021-08-23  2021-08-13\n",
       "4      b056b9822c2208...  2021-08-23  2021-08-13\n",
       "...                  ...         ...         ...\n",
       "22990  f6b65467d1194e...  2021-08-16  2021-08-12\n",
       "22991  3b7fff60c9a471...  2021-08-17  2021-08-12\n",
       "22992  a2948d4605a1a1...  2021-08-23  2021-08-13\n",
       "22993  8b7aa89d178880...  2021-08-14  2021-08-13\n",
       "22994  7d48d9923ca978...  2021-08-14  2021-08-13\n",
       "\n",
       "[22995 rows x 3 columns]"
      ]
     },
     "execution_count": 116,
     "metadata": {},
     "output_type": "execute_result"
    }
   ],
   "source": [
    "card_openings = pd.read_csv('card_openings.csv')\n",
    "card_openings"
   ]
  },
  {
   "cell_type": "code",
   "execution_count": 117,
   "metadata": {},
   "outputs": [
    {
     "name": "stdout",
     "output_type": "stream",
     "text": [
      "Number of Na: \n",
      "cust_id       0\n",
      "open_dt       0\n",
      "contact_dt    0\n",
      "dtype: int64\n",
      "\n",
      "Number of unique values in atribute: \n",
      "cust_id       21424\n",
      "open_dt          21\n",
      "contact_dt       15\n",
      "dtype: int64\n",
      "\n",
      "Number of non unique values in atribute: \n",
      "cust_id        1571\n",
      "open_dt       22974\n",
      "contact_dt    22980\n",
      "dtype: int64\n",
      "\n",
      "Number of rows: \n",
      "22995\n",
      "\n",
      "Number of duplicate rows: \n",
      "0\n"
     ]
    }
   ],
   "source": [
    "print(f'Number of Na: \\n{card_openings.isna().sum()}\\n')\n",
    "print(f'Number of unique values in atribute: \\n{card_openings.nunique()}\\n')\n",
    "print(f'Number of non unique values in atribute: \\n{card_openings.shape[0] - card_openings.nunique()}\\n')\n",
    "print(f'Number of rows: \\n{card_openings.shape[0]}\\n')\n",
    "\n",
    "\n",
    "print(f'Number of duplicate rows: \\n{card_openings[card_openings.duplicated()].shape[0]}')"
   ]
  },
  {
   "cell_type": "code",
   "execution_count": 118,
   "metadata": {},
   "outputs": [
    {
     "name": "stderr",
     "output_type": "stream",
     "text": [
      "/var/folders/y2/kyj4l2mn1794yrxqmgvvg4580000gn/T/ipykernel_56643/1151259003.py:2: FutureWarning: Series.__getitem__ treating keys as positions is deprecated. In a future version, integer keys will always be treated as labels (consistent with DataFrame behavior). To access a value by position, use `ser.iloc[pos]`\n",
      "  card_openings[card_openings['cust_id'] == card_openings[card_openings.duplicated('cust_id')].iloc[0][0]]\n"
     ]
    },
    {
     "data": {
      "text/html": [
       "<div>\n",
       "<style scoped>\n",
       "    .dataframe tbody tr th:only-of-type {\n",
       "        vertical-align: middle;\n",
       "    }\n",
       "\n",
       "    .dataframe tbody tr th {\n",
       "        vertical-align: top;\n",
       "    }\n",
       "\n",
       "    .dataframe thead th {\n",
       "        text-align: right;\n",
       "    }\n",
       "</style>\n",
       "<table border=\"1\" class=\"dataframe\">\n",
       "  <thead>\n",
       "    <tr style=\"text-align: right;\">\n",
       "      <th></th>\n",
       "      <th>cust_id</th>\n",
       "      <th>open_dt</th>\n",
       "      <th>contact_dt</th>\n",
       "    </tr>\n",
       "  </thead>\n",
       "  <tbody>\n",
       "    <tr>\n",
       "      <th>301</th>\n",
       "      <td>9c8981551ab720...</td>\n",
       "      <td>2021-08-25</td>\n",
       "      <td>2021-08-13</td>\n",
       "    </tr>\n",
       "    <tr>\n",
       "      <th>960</th>\n",
       "      <td>9c8981551ab720...</td>\n",
       "      <td>2021-08-13</td>\n",
       "      <td>2021-08-13</td>\n",
       "    </tr>\n",
       "  </tbody>\n",
       "</table>\n",
       "</div>"
      ],
      "text/plain": [
       "               cust_id     open_dt  contact_dt\n",
       "301  9c8981551ab720...  2021-08-25  2021-08-13\n",
       "960  9c8981551ab720...  2021-08-13  2021-08-13"
      ]
     },
     "execution_count": 118,
     "metadata": {},
     "output_type": "execute_result"
    }
   ],
   "source": [
    "## We can see that customer can open card multiple times, but contact only once\n",
    "card_openings[card_openings['cust_id'] == card_openings[card_openings.duplicated('cust_id')].iloc[0][0]]"
   ]
  },
  {
   "cell_type": "code",
   "execution_count": 119,
   "metadata": {},
   "outputs": [
    {
     "name": "stdout",
     "output_type": "stream",
     "text": [
      "Number of Na: \n",
      "cust_id       0\n",
      "open_dt       0\n",
      "contact_dt    0\n",
      "dtype: int64\n",
      "\n",
      "Number of unique values in atribute: \n",
      "cust_id       21424\n",
      "open_dt          21\n",
      "contact_dt       15\n",
      "dtype: int64\n",
      "\n",
      "Number of non unique values in atribute: \n",
      "cust_id           7\n",
      "open_dt       21410\n",
      "contact_dt    21416\n",
      "dtype: int64\n",
      "\n",
      "Number of rows: \n",
      "21431\n",
      "\n",
      "Number of duplicate rows: \n",
      "0\n"
     ]
    },
    {
     "name": "stderr",
     "output_type": "stream",
     "text": [
      "/var/folders/y2/kyj4l2mn1794yrxqmgvvg4580000gn/T/ipykernel_56643/4019007103.py:11: FutureWarning: Series.__getitem__ treating keys as positions is deprecated. In a future version, integer keys will always be treated as labels (consistent with DataFrame behavior). To access a value by position, use `ser.iloc[pos]`\n",
      "  few_contacts = min_open_dt[min_open_dt.duplicated('cust_id')].iloc[5][0]\n"
     ]
    },
    {
     "data": {
      "text/html": [
       "<div>\n",
       "<style scoped>\n",
       "    .dataframe tbody tr th:only-of-type {\n",
       "        vertical-align: middle;\n",
       "    }\n",
       "\n",
       "    .dataframe tbody tr th {\n",
       "        vertical-align: top;\n",
       "    }\n",
       "\n",
       "    .dataframe thead th {\n",
       "        text-align: right;\n",
       "    }\n",
       "</style>\n",
       "<table border=\"1\" class=\"dataframe\">\n",
       "  <thead>\n",
       "    <tr style=\"text-align: right;\">\n",
       "      <th></th>\n",
       "      <th>cust_id</th>\n",
       "      <th>open_dt</th>\n",
       "      <th>contact_dt</th>\n",
       "    </tr>\n",
       "  </thead>\n",
       "  <tbody>\n",
       "    <tr>\n",
       "      <th>18115</th>\n",
       "      <td>d842cd3390f73f...</td>\n",
       "      <td>2021-08-21</td>\n",
       "      <td>2021-08-13</td>\n",
       "    </tr>\n",
       "    <tr>\n",
       "      <th>18116</th>\n",
       "      <td>d842cd3390f73f...</td>\n",
       "      <td>2021-08-24</td>\n",
       "      <td>2021-08-12</td>\n",
       "    </tr>\n",
       "  </tbody>\n",
       "</table>\n",
       "</div>"
      ],
      "text/plain": [
       "                 cust_id     open_dt  contact_dt\n",
       "18115  d842cd3390f73f...  2021-08-21  2021-08-13\n",
       "18116  d842cd3390f73f...  2021-08-24  2021-08-12"
      ]
     },
     "execution_count": 119,
     "metadata": {},
     "output_type": "execute_result"
    }
   ],
   "source": [
    "min_open_dt = card_openings.groupby(['cust_id', 'contact_dt'])['open_dt'].min().reset_index()\n",
    "min_open_dt = min_open_dt.groupby(['cust_id','open_dt'])['contact_dt'].min().reset_index()\n",
    "print(f'Number of Na: \\n{min_open_dt.isna().sum()}\\n')\n",
    "print(f'Number of unique values in atribute: \\n{min_open_dt.nunique()}\\n')\n",
    "print(f'Number of non unique values in atribute: \\n{min_open_dt.shape[0] - min_open_dt.nunique()}\\n')\n",
    "print(f'Number of rows: \\n{min_open_dt.shape[0]}\\n')\n",
    "\n",
    "\n",
    "print(f'Number of duplicate rows: \\n{min_open_dt[min_open_dt.duplicated()].shape[0]}')\n",
    "\n",
    "few_contacts = min_open_dt[min_open_dt.duplicated('cust_id')].iloc[5][0]\n",
    "## Non unique values becasue few contactdt\n",
    "min_open_dt[min_open_dt['cust_id'] == few_contacts]"
   ]
  },
  {
   "cell_type": "code",
   "execution_count": 120,
   "metadata": {
    "colab": {
     "base_uri": "https://localhost:8080/",
     "height": 206
    },
    "id": "P66zsfN-DbFS",
    "outputId": "9f705352-f8e0-48b6-9ba8-82e260658c55"
   },
   "outputs": [
    {
     "name": "stdout",
     "output_type": "stream",
     "text": [
      "Number of Na: \n",
      "channel_type         0\n",
      "contact_dt           0\n",
      "control_group_flg    0\n",
      "sent                 0\n",
      "delivered            0\n",
      "opened               0\n",
      "clicked              0\n",
      "blocked              0\n",
      "cust_id              0\n",
      "dtype: int64\n",
      "\n",
      "Number of unique values in atribute: \n",
      "channel_type               3\n",
      "contact_dt                15\n",
      "control_group_flg          2\n",
      "sent                       2\n",
      "delivered                  2\n",
      "opened                     2\n",
      "clicked                    2\n",
      "blocked                    2\n",
      "cust_id              1401168\n",
      "dtype: int64\n",
      "\n",
      "Number of non unique values in atribute: \n",
      "channel_type         1456823\n",
      "contact_dt           1456811\n",
      "control_group_flg    1456824\n",
      "sent                 1456824\n",
      "delivered            1456824\n",
      "opened               1456824\n",
      "clicked              1456824\n",
      "blocked              1456824\n",
      "cust_id                55658\n",
      "dtype: int64\n",
      "\n",
      "Number of rows: \n",
      "1456826\n",
      "\n",
      "Number of duplicate rows: \n",
      "0\n"
     ]
    }
   ],
   "source": [
    "visa_communications = pd.read_csv('visa_communications.csv')\n",
    "visa_communications\n",
    "print(f'Number of Na: \\n{visa_communications.isna().sum()}\\n')\n",
    "print(f'Number of unique values in atribute: \\n{visa_communications.nunique()}\\n')\n",
    "print(f'Number of non unique values in atribute: \\n{visa_communications.shape[0] - visa_communications.nunique()}\\n')\n",
    "print(f'Number of rows: \\n{visa_communications.shape[0]}\\n')\n",
    "\n",
    "\n",
    "print(f'Number of duplicate rows: \\n{visa_communications[visa_communications.duplicated()].shape[0]}')"
   ]
  },
  {
   "cell_type": "code",
   "execution_count": 135,
   "metadata": {},
   "outputs": [
    {
     "data": {
      "text/html": [
       "<div>\n",
       "<style scoped>\n",
       "    .dataframe tbody tr th:only-of-type {\n",
       "        vertical-align: middle;\n",
       "    }\n",
       "\n",
       "    .dataframe tbody tr th {\n",
       "        vertical-align: top;\n",
       "    }\n",
       "\n",
       "    .dataframe thead th {\n",
       "        text-align: right;\n",
       "    }\n",
       "</style>\n",
       "<table border=\"1\" class=\"dataframe\">\n",
       "  <thead>\n",
       "    <tr style=\"text-align: right;\">\n",
       "      <th></th>\n",
       "      <th>channel_type</th>\n",
       "      <th>contact_dt</th>\n",
       "      <th>control_group_flg</th>\n",
       "      <th>sent</th>\n",
       "      <th>delivered</th>\n",
       "      <th>opened</th>\n",
       "      <th>clicked</th>\n",
       "      <th>blocked</th>\n",
       "      <th>cust_id</th>\n",
       "      <th>open_dt</th>\n",
       "    </tr>\n",
       "  </thead>\n",
       "  <tbody>\n",
       "    <tr>\n",
       "      <th>0</th>\n",
       "      <td>PUSH</td>\n",
       "      <td>2021-08-12</td>\n",
       "      <td>0</td>\n",
       "      <td>0</td>\n",
       "      <td>0</td>\n",
       "      <td>0</td>\n",
       "      <td>0</td>\n",
       "      <td>0</td>\n",
       "      <td>2823d67a9a2e42...</td>\n",
       "      <td>2021-08-12</td>\n",
       "    </tr>\n",
       "    <tr>\n",
       "      <th>1</th>\n",
       "      <td>PUSH</td>\n",
       "      <td>2021-08-12</td>\n",
       "      <td>1</td>\n",
       "      <td>0</td>\n",
       "      <td>0</td>\n",
       "      <td>0</td>\n",
       "      <td>0</td>\n",
       "      <td>0</td>\n",
       "      <td>fde03d3d2a3b14...</td>\n",
       "      <td>2021-08-24</td>\n",
       "    </tr>\n",
       "    <tr>\n",
       "      <th>2</th>\n",
       "      <td>PUSH</td>\n",
       "      <td>2021-08-12</td>\n",
       "      <td>0</td>\n",
       "      <td>0</td>\n",
       "      <td>0</td>\n",
       "      <td>0</td>\n",
       "      <td>0</td>\n",
       "      <td>0</td>\n",
       "      <td>4790e99c042e38...</td>\n",
       "      <td>2021-08-18</td>\n",
       "    </tr>\n",
       "    <tr>\n",
       "      <th>3</th>\n",
       "      <td>EMAIL</td>\n",
       "      <td>2021-08-12</td>\n",
       "      <td>0</td>\n",
       "      <td>1</td>\n",
       "      <td>1</td>\n",
       "      <td>1</td>\n",
       "      <td>0</td>\n",
       "      <td>0</td>\n",
       "      <td>f1b6e14260e2f7...</td>\n",
       "      <td>2021-08-20</td>\n",
       "    </tr>\n",
       "    <tr>\n",
       "      <th>4</th>\n",
       "      <td>EMAIL</td>\n",
       "      <td>2021-08-13</td>\n",
       "      <td>0</td>\n",
       "      <td>1</td>\n",
       "      <td>1</td>\n",
       "      <td>0</td>\n",
       "      <td>0</td>\n",
       "      <td>0</td>\n",
       "      <td>3bf6dc99ff2f29...</td>\n",
       "      <td>2021-08-20</td>\n",
       "    </tr>\n",
       "    <tr>\n",
       "      <th>...</th>\n",
       "      <td>...</td>\n",
       "      <td>...</td>\n",
       "      <td>...</td>\n",
       "      <td>...</td>\n",
       "      <td>...</td>\n",
       "      <td>...</td>\n",
       "      <td>...</td>\n",
       "      <td>...</td>\n",
       "      <td>...</td>\n",
       "      <td>...</td>\n",
       "    </tr>\n",
       "    <tr>\n",
       "      <th>22027</th>\n",
       "      <td>EMAIL</td>\n",
       "      <td>2021-08-12</td>\n",
       "      <td>0</td>\n",
       "      <td>1</td>\n",
       "      <td>1</td>\n",
       "      <td>0</td>\n",
       "      <td>0</td>\n",
       "      <td>0</td>\n",
       "      <td>77d9e39b32c954...</td>\n",
       "      <td>2021-08-13</td>\n",
       "    </tr>\n",
       "    <tr>\n",
       "      <th>22028</th>\n",
       "      <td>EMAIL</td>\n",
       "      <td>2021-08-12</td>\n",
       "      <td>0</td>\n",
       "      <td>1</td>\n",
       "      <td>1</td>\n",
       "      <td>0</td>\n",
       "      <td>0</td>\n",
       "      <td>0</td>\n",
       "      <td>199b60807bae69...</td>\n",
       "      <td>2021-08-25</td>\n",
       "    </tr>\n",
       "    <tr>\n",
       "      <th>22029</th>\n",
       "      <td>PUSH</td>\n",
       "      <td>2021-08-12</td>\n",
       "      <td>0</td>\n",
       "      <td>0</td>\n",
       "      <td>0</td>\n",
       "      <td>0</td>\n",
       "      <td>0</td>\n",
       "      <td>0</td>\n",
       "      <td>893802f26670a8...</td>\n",
       "      <td>2021-08-26</td>\n",
       "    </tr>\n",
       "    <tr>\n",
       "      <th>22030</th>\n",
       "      <td>PUSH</td>\n",
       "      <td>2021-08-12</td>\n",
       "      <td>0</td>\n",
       "      <td>0</td>\n",
       "      <td>0</td>\n",
       "      <td>0</td>\n",
       "      <td>0</td>\n",
       "      <td>0</td>\n",
       "      <td>020d85399e4703...</td>\n",
       "      <td>2021-08-12</td>\n",
       "    </tr>\n",
       "    <tr>\n",
       "      <th>22031</th>\n",
       "      <td>PUSH</td>\n",
       "      <td>2021-08-12</td>\n",
       "      <td>0</td>\n",
       "      <td>0</td>\n",
       "      <td>0</td>\n",
       "      <td>0</td>\n",
       "      <td>0</td>\n",
       "      <td>0</td>\n",
       "      <td>c98adaf0a455f0...</td>\n",
       "      <td>2021-08-14</td>\n",
       "    </tr>\n",
       "  </tbody>\n",
       "</table>\n",
       "<p>22032 rows × 10 columns</p>\n",
       "</div>"
      ],
      "text/plain": [
       "      channel_type  contact_dt  control_group_flg  sent  delivered  opened  \\\n",
       "0             PUSH  2021-08-12                  0     0          0       0   \n",
       "1             PUSH  2021-08-12                  1     0          0       0   \n",
       "2             PUSH  2021-08-12                  0     0          0       0   \n",
       "3            EMAIL  2021-08-12                  0     1          1       1   \n",
       "4            EMAIL  2021-08-13                  0     1          1       0   \n",
       "...            ...         ...                ...   ...        ...     ...   \n",
       "22027        EMAIL  2021-08-12                  0     1          1       0   \n",
       "22028        EMAIL  2021-08-12                  0     1          1       0   \n",
       "22029         PUSH  2021-08-12                  0     0          0       0   \n",
       "22030         PUSH  2021-08-12                  0     0          0       0   \n",
       "22031         PUSH  2021-08-12                  0     0          0       0   \n",
       "\n",
       "       clicked  blocked            cust_id     open_dt  \n",
       "0            0        0  2823d67a9a2e42...  2021-08-12  \n",
       "1            0        0  fde03d3d2a3b14...  2021-08-24  \n",
       "2            0        0  4790e99c042e38...  2021-08-18  \n",
       "3            0        0  f1b6e14260e2f7...  2021-08-20  \n",
       "4            0        0  3bf6dc99ff2f29...  2021-08-20  \n",
       "...        ...      ...                ...         ...  \n",
       "22027        0        0  77d9e39b32c954...  2021-08-13  \n",
       "22028        0        0  199b60807bae69...  2021-08-25  \n",
       "22029        0        0  893802f26670a8...  2021-08-26  \n",
       "22030        0        0  020d85399e4703...  2021-08-12  \n",
       "22031        0        0  c98adaf0a455f0...  2021-08-14  \n",
       "\n",
       "[22032 rows x 10 columns]"
      ]
     },
     "execution_count": 135,
     "metadata": {},
     "output_type": "execute_result"
    }
   ],
   "source": [
    "merged_participated_group = pd.merge(visa_communications, min_open_dt, on = ['cust_id', 'contact_dt'], how = 'inner')\n",
    "merged_participated_group"
   ]
  },
  {
   "cell_type": "code",
   "execution_count": 123,
   "metadata": {},
   "outputs": [
    {
     "name": "stdout",
     "output_type": "stream",
     "text": [
      "Number of Na: \n",
      "cust_id           0\n",
      "transaction_dt    0\n",
      "mcc_id            0\n",
      "txn_sum           0\n",
      "dtype: int64\n",
      "\n",
      "Number of unique values in atribute: \n",
      "cust_id           13090\n",
      "transaction_dt       34\n",
      "mcc_id              255\n",
      "txn_sum           74648\n",
      "dtype: int64\n",
      "\n",
      "Number of non unique values in atribute: \n",
      "cust_id           383474\n",
      "transaction_dt    396530\n",
      "mcc_id            396309\n",
      "txn_sum           321916\n",
      "dtype: int64\n",
      "\n",
      "Number of rows: \n",
      "396564\n",
      "\n",
      "Number of duplicate rows: \n",
      "0\n"
     ]
    },
    {
     "data": {
      "text/html": [
       "<div>\n",
       "<style scoped>\n",
       "    .dataframe tbody tr th:only-of-type {\n",
       "        vertical-align: middle;\n",
       "    }\n",
       "\n",
       "    .dataframe tbody tr th {\n",
       "        vertical-align: top;\n",
       "    }\n",
       "\n",
       "    .dataframe thead th {\n",
       "        text-align: right;\n",
       "    }\n",
       "</style>\n",
       "<table border=\"1\" class=\"dataframe\">\n",
       "  <thead>\n",
       "    <tr style=\"text-align: right;\">\n",
       "      <th></th>\n",
       "      <th>cust_id</th>\n",
       "      <th>transaction_dt</th>\n",
       "      <th>mcc_id</th>\n",
       "      <th>txn_sum</th>\n",
       "    </tr>\n",
       "  </thead>\n",
       "  <tbody>\n",
       "    <tr>\n",
       "      <th>0</th>\n",
       "      <td>db5e62076fad27...</td>\n",
       "      <td>2021-09-09</td>\n",
       "      <td>5399</td>\n",
       "      <td>2322.00</td>\n",
       "    </tr>\n",
       "    <tr>\n",
       "      <th>1</th>\n",
       "      <td>9fc01d326a0adc...</td>\n",
       "      <td>2021-09-07</td>\n",
       "      <td>5533</td>\n",
       "      <td>1245.00</td>\n",
       "    </tr>\n",
       "    <tr>\n",
       "      <th>2</th>\n",
       "      <td>7afcb430aaf9ba...</td>\n",
       "      <td>2021-08-30</td>\n",
       "      <td>5921</td>\n",
       "      <td>29.99</td>\n",
       "    </tr>\n",
       "    <tr>\n",
       "      <th>3</th>\n",
       "      <td>79a2d16cd93c5d...</td>\n",
       "      <td>2021-09-04</td>\n",
       "      <td>5211</td>\n",
       "      <td>110.00</td>\n",
       "    </tr>\n",
       "    <tr>\n",
       "      <th>4</th>\n",
       "      <td>0c10b18ba26cb5...</td>\n",
       "      <td>2021-08-31</td>\n",
       "      <td>5441</td>\n",
       "      <td>45.00</td>\n",
       "    </tr>\n",
       "  </tbody>\n",
       "</table>\n",
       "</div>"
      ],
      "text/plain": [
       "             cust_id transaction_dt  mcc_id  txn_sum\n",
       "0  db5e62076fad27...     2021-09-09    5399  2322.00\n",
       "1  9fc01d326a0adc...     2021-09-07    5533  1245.00\n",
       "2  7afcb430aaf9ba...     2021-08-30    5921    29.99\n",
       "3  79a2d16cd93c5d...     2021-09-04    5211   110.00\n",
       "4  0c10b18ba26cb5...     2021-08-31    5441    45.00"
      ]
     },
     "execution_count": 123,
     "metadata": {},
     "output_type": "execute_result"
    }
   ],
   "source": [
    "visa_transactions = pd.read_csv('visa_transactions.csv')\n",
    "print(f'Number of Na: \\n{visa_transactions.isna().sum()}\\n')\n",
    "print(f'Number of unique values in atribute: \\n{visa_transactions.nunique()}\\n')\n",
    "print(f'Number of non unique values in atribute: \\n{visa_transactions.shape[0] - visa_transactions.nunique()}\\n')\n",
    "print(f'Number of rows: \\n{visa_transactions.shape[0]}\\n')\n",
    "\n",
    "\n",
    "print(f'Number of duplicate rows: \\n{visa_transactions[visa_transactions.duplicated()].shape[0]}')\n",
    "visa_transactions.head()\n"
   ]
  },
  {
   "cell_type": "code",
   "execution_count": 125,
   "metadata": {},
   "outputs": [
    {
     "data": {
      "text/html": [
       "<div>\n",
       "<style scoped>\n",
       "    .dataframe tbody tr th:only-of-type {\n",
       "        vertical-align: middle;\n",
       "    }\n",
       "\n",
       "    .dataframe tbody tr th {\n",
       "        vertical-align: top;\n",
       "    }\n",
       "\n",
       "    .dataframe thead th {\n",
       "        text-align: right;\n",
       "    }\n",
       "</style>\n",
       "<table border=\"1\" class=\"dataframe\">\n",
       "  <thead>\n",
       "    <tr style=\"text-align: right;\">\n",
       "      <th></th>\n",
       "      <th>cust_id</th>\n",
       "      <th>txn_sum</th>\n",
       "    </tr>\n",
       "  </thead>\n",
       "  <tbody>\n",
       "    <tr>\n",
       "      <th>0</th>\n",
       "      <td>0000d77b0a84fa...</td>\n",
       "      <td>6081.48</td>\n",
       "    </tr>\n",
       "    <tr>\n",
       "      <th>1</th>\n",
       "      <td>0001f693f461c4...</td>\n",
       "      <td>5748.05</td>\n",
       "    </tr>\n",
       "    <tr>\n",
       "      <th>2</th>\n",
       "      <td>000238bd9e5c9d...</td>\n",
       "      <td>27452.33</td>\n",
       "    </tr>\n",
       "    <tr>\n",
       "      <th>3</th>\n",
       "      <td>00069a7fd6ef17...</td>\n",
       "      <td>2046.41</td>\n",
       "    </tr>\n",
       "    <tr>\n",
       "      <th>4</th>\n",
       "      <td>000cbe1948c995...</td>\n",
       "      <td>107950.36</td>\n",
       "    </tr>\n",
       "    <tr>\n",
       "      <th>...</th>\n",
       "      <td>...</td>\n",
       "      <td>...</td>\n",
       "    </tr>\n",
       "    <tr>\n",
       "      <th>13085</th>\n",
       "      <td>ffd9f93cee686e...</td>\n",
       "      <td>11492.17</td>\n",
       "    </tr>\n",
       "    <tr>\n",
       "      <th>13086</th>\n",
       "      <td>ffda7e8035d4f6...</td>\n",
       "      <td>5811.39</td>\n",
       "    </tr>\n",
       "    <tr>\n",
       "      <th>13087</th>\n",
       "      <td>ffdb811c17ffd9...</td>\n",
       "      <td>901.04</td>\n",
       "    </tr>\n",
       "    <tr>\n",
       "      <th>13088</th>\n",
       "      <td>fff0c9476a7f1e...</td>\n",
       "      <td>15993.94</td>\n",
       "    </tr>\n",
       "    <tr>\n",
       "      <th>13089</th>\n",
       "      <td>fff548f13b7993...</td>\n",
       "      <td>810.00</td>\n",
       "    </tr>\n",
       "  </tbody>\n",
       "</table>\n",
       "<p>13090 rows × 2 columns</p>\n",
       "</div>"
      ],
      "text/plain": [
       "                 cust_id    txn_sum\n",
       "0      0000d77b0a84fa...    6081.48\n",
       "1      0001f693f461c4...    5748.05\n",
       "2      000238bd9e5c9d...   27452.33\n",
       "3      00069a7fd6ef17...    2046.41\n",
       "4      000cbe1948c995...  107950.36\n",
       "...                  ...        ...\n",
       "13085  ffd9f93cee686e...   11492.17\n",
       "13086  ffda7e8035d4f6...    5811.39\n",
       "13087  ffdb811c17ffd9...     901.04\n",
       "13088  fff0c9476a7f1e...   15993.94\n",
       "13089  fff548f13b7993...     810.00\n",
       "\n",
       "[13090 rows x 2 columns]"
      ]
     },
     "execution_count": 125,
     "metadata": {},
     "output_type": "execute_result"
    }
   ],
   "source": [
    "visa_transactions_agg = visa_transactions.groupby('cust_id')['txn_sum'].sum().reset_index()\n",
    "visa_transactions_agg"
   ]
  },
  {
   "cell_type": "code",
   "execution_count": 136,
   "metadata": {},
   "outputs": [
    {
     "name": "stdout",
     "output_type": "stream",
     "text": [
      "Number of Na: \n",
      "channel_type         0\n",
      "contact_dt           0\n",
      "control_group_flg    0\n",
      "sent                 0\n",
      "delivered            0\n",
      "opened               0\n",
      "clicked              0\n",
      "blocked              0\n",
      "cust_id              0\n",
      "open_dt              0\n",
      "txn_sum              0\n",
      "dtype: int64\n",
      "\n",
      "Number of unique values in atribute: \n",
      "channel_type             3\n",
      "contact_dt              13\n",
      "control_group_flg        2\n",
      "sent                     2\n",
      "delivered                2\n",
      "opened                   2\n",
      "clicked                  2\n",
      "blocked                  1\n",
      "cust_id              13090\n",
      "open_dt                 19\n",
      "txn_sum              12656\n",
      "dtype: int64\n",
      "\n",
      "Number of non unique values in atribute: \n",
      "channel_type         13466\n",
      "contact_dt           13454\n",
      "control_group_flg    13467\n",
      "sent                 13467\n",
      "delivered            13467\n",
      "opened               13467\n",
      "clicked              13467\n",
      "blocked              13468\n",
      "cust_id              -7955\n",
      "open_dt              13448\n",
      "dtype: int64\n",
      "\n",
      "Number of rows: \n",
      "13469\n",
      "\n",
      "Number of duplicate rows: \n",
      "0\n"
     ]
    }
   ],
   "source": [
    "merged_participated_group_agg = pd.merge(merged_participated_group, visa_transactions_agg, on = 'cust_id', how='inner')\n",
    "merged_participated_group_agg.head()\n",
    "\n",
    "print(f'Number of Na: \\n{merged_participated_group_agg.isna().sum()}\\n')\n",
    "print(f'Number of unique values in atribute: \\n{merged_participated_group_agg.nunique()}\\n')\n",
    "print(f'Number of non unique values in atribute: \\n{merged_participated_group_agg.shape[0] - merged_participated_group.nunique()}\\n')\n",
    "print(f'Number of rows: \\n{merged_participated_group_agg.shape[0]}\\n')\n",
    "\n",
    "\n",
    "print(f'Number of duplicate rows: \\n{merged_participated_group_agg[merged_participated_group_agg.duplicated()].shape[0]}')"
   ]
  },
  {
   "cell_type": "code",
   "execution_count": null,
   "metadata": {
    "id": "f1AiUQd6nGrR"
   },
   "outputs": [],
   "source": [
    "card_openings_non_participants = pd.read_csv('card_openings_non_participants.csv')\n",
    "visa_transactions_non_particip = pd.read_csv('visa_transactions_non_particip.csv')\n",
    "\n",
    "min_open_non_participants_dt = card_openings_non_participants.groupby(['cust_id', 'contact_dt'])['open_dt'].min().reset_index()\n",
    "min_open_non_participants_dt = min_open_dt.groupby(['cust_id','open_dt'])['contact_dt'].min().reset_index()\n",
    "\n",
    "merged_non_participated_group = pd.merge(visa_communications, min_open_non_participants_dt, on = ['cust_id', 'contact_dt'], how = 'inner')\n",
    "merged_non_participated_group\n",
    "\n",
    "visa_transactions_non_agg = visa_transactions_non_particip.groupby('cust_id')['txn_sum'].sum().reset_index()\n",
    "visa_transactions_non_agg"
   ]
  },
  {
   "cell_type": "code",
   "execution_count": null,
   "metadata": {},
   "outputs": [],
   "source": []
  },
  {
   "cell_type": "markdown",
   "metadata": {
    "id": "H-4LXxKC-YzN"
   },
   "source": [
    "### Task2 Selection of KPI\n",
    "  1) Profit = Bank commission - cashbacks (if applicable)\n",
    "  \n",
    "  2) CTR rate: Open rate; Click rate\n"
   ]
  },
  {
   "cell_type": "code",
   "execution_count": null,
   "metadata": {
    "colab": {
     "base_uri": "https://localhost:8080/"
    },
    "id": "7RaecArhqFtl",
    "outputId": "b214959e-6428-4a1e-a74e-67e82db5c344"
   },
   "outputs": [
    {
     "name": "stderr",
     "output_type": "stream",
     "text": [
      "C:\\Users\\Bogdan\\AppData\\Local\\Temp\\ipykernel_23296\\2890624910.py:2: DeprecationWarning: DataFrameGroupBy.apply operated on the grouping columns. This behavior is deprecated, and in a future version of pandas the grouping columns will be excluded from the operation. Either pass `include_groups=False` to exclude the groupings or explicitly select the grouping columns after groupby to silence this warning.\n",
      "  open_rates = visa_communications_df.groupby('channel_type').apply(\n"
     ]
    },
    {
     "data": {
      "text/plain": [
       "channel_type\n",
       "EMAIL    0.102413\n",
       "PUSH     0.000000\n",
       "Popup    0.996165\n",
       "dtype: float64"
      ]
     },
     "execution_count": 22,
     "metadata": {},
     "output_type": "execute_result"
    }
   ],
   "source": [
    "# Calculate the open  rate for each channel\n",
    "open_rates = visa_communications.groupby('channel_type').apply(\n",
    "    lambda x: x['opened'].sum() / x['delivered'].sum() if x['delivered'].sum() > 0 else 0\n",
    ")\n",
    "open_rates"
   ]
  },
  {
   "cell_type": "code",
   "execution_count": 23,
   "metadata": {
    "colab": {
     "base_uri": "https://localhost:8080/"
    },
    "id": "GpRYLyZJq4c1",
    "outputId": "f3d92907-c027-4287-cb8a-a36100d415ac"
   },
   "outputs": [
    {
     "name": "stdout",
     "output_type": "stream",
     "text": [
      "Overall open Rate: 0.402\n"
     ]
    }
   ],
   "source": [
    "# Calculate the overall open conversion rate\n",
    "total_opened = visa_communications_df['opened'].sum()\n",
    "total_delivered = visa_communications_df['delivered'].sum()\n",
    "overall_open_rate = total_opened / total_delivered if total_delivered > 0 else 0\n",
    "\n",
    "# Display the overall conversion rate\n",
    "print(\"Overall open Rate:\", round(overall_open_rate, 3))"
   ]
  },
  {
   "cell_type": "code",
   "execution_count": 24,
   "metadata": {
    "colab": {
     "base_uri": "https://localhost:8080/"
    },
    "id": "A5HHRGy-rHR6",
    "outputId": "99e5b234-216c-434d-c008-ae0bb7ee447b"
   },
   "outputs": [
    {
     "name": "stdout",
     "output_type": "stream",
     "text": [
      "channel_type\n",
      "EMAIL    0.006040\n",
      "PUSH     0.000000\n",
      "Popup    0.080311\n",
      "dtype: float64\n"
     ]
    },
    {
     "name": "stderr",
     "output_type": "stream",
     "text": [
      "C:\\Users\\Bogdan\\AppData\\Local\\Temp\\ipykernel_23296\\1564165469.py:2: DeprecationWarning: DataFrameGroupBy.apply operated on the grouping columns. This behavior is deprecated, and in a future version of pandas the grouping columns will be excluded from the operation. Either pass `include_groups=False` to exclude the groupings or explicitly select the grouping columns after groupby to silence this warning.\n",
      "  conversion_rates = visa_communications_df.groupby('channel_type').apply(\n"
     ]
    }
   ],
   "source": [
    "# Calculate the click rate for each channel\n",
    "conversion_rates = visa_communications_df.groupby('channel_type').apply(\n",
    "    lambda x: x['clicked'].sum() / x['delivered'].sum() if x['delivered'].sum() > 0 else 0\n",
    ")\n",
    "print(conversion_rates)"
   ]
  },
  {
   "cell_type": "code",
   "execution_count": 25,
   "metadata": {
    "colab": {
     "base_uri": "https://localhost:8080/"
    },
    "id": "JxUZgfUdrgIc",
    "outputId": "51f51add-a60f-43dd-c3b7-f79415757791"
   },
   "outputs": [
    {
     "name": "stdout",
     "output_type": "stream",
     "text": [
      "Overall click Rate: 0.03093907799062114\n"
     ]
    }
   ],
   "source": [
    "# Calculate the overall click rate\n",
    "total_clicked = visa_communications_df['clicked'].sum()\n",
    "total_delivered = visa_communications_df['delivered'].sum()\n",
    "overall_click_rate = total_clicked / total_delivered if total_delivered > 0 else 0\n",
    "\n",
    "# Display the overall click rate\n",
    "print(\"Overall click Rate:\", overall_click_rate)"
   ]
  },
  {
   "cell_type": "code",
   "execution_count": 26,
   "metadata": {
    "colab": {
     "base_uri": "https://localhost:8080/"
    },
    "id": "geFevzcNrrgM",
    "outputId": "e5aa655f-831a-489e-a0db-741654e6a19f"
   },
   "outputs": [
    {
     "name": "stdout",
     "output_type": "stream",
     "text": [
      "channel_type\n",
      "EMAIL    0.058973\n",
      "PUSH     0.000000\n",
      "Popup    0.080620\n",
      "dtype: float64\n"
     ]
    },
    {
     "name": "stderr",
     "output_type": "stream",
     "text": [
      "C:\\Users\\Bogdan\\AppData\\Local\\Temp\\ipykernel_23296\\3978785585.py:2: DeprecationWarning: DataFrameGroupBy.apply operated on the grouping columns. This behavior is deprecated, and in a future version of pandas the grouping columns will be excluded from the operation. Either pass `include_groups=False` to exclude the groupings or explicitly select the grouping columns after groupby to silence this warning.\n",
      "  conversion_rates = visa_communications_df.groupby('channel_type').apply(\n"
     ]
    }
   ],
   "source": [
    "# Calculate the click to open rate for each channel\n",
    "conversion_rates = visa_communications_df.groupby('channel_type').apply(\n",
    "    lambda x: x['clicked'].sum() / x['opened'].sum() if x['delivered'].sum() > 0 else 0\n",
    ")\n",
    "print(conversion_rates)"
   ]
  },
  {
   "cell_type": "code",
   "execution_count": 27,
   "metadata": {
    "colab": {
     "base_uri": "https://localhost:8080/"
    },
    "id": "PS09UYUotFMv",
    "outputId": "75ceb1db-e779-4819-c7b6-116e14f78a72"
   },
   "outputs": [
    {
     "name": "stdout",
     "output_type": "stream",
     "text": [
      "Overall open Rate: 0.07695437556182876\n"
     ]
    }
   ],
   "source": [
    "# Calculate the overall click to open rate\n",
    "total_clicked = visa_communications_df['clicked'].sum()\n",
    "total_opened = visa_communications_df['opened'].sum()\n",
    "overall_open_rate = total_clicked / total_opened if total_opened > 0 else 0\n",
    "\n",
    "# Display the overall open rate\n",
    "print(\"Overall open Rate:\", overall_open_rate)"
   ]
  },
  {
   "cell_type": "markdown",
   "metadata": {
    "id": "-UKW_sU1_pyc"
   },
   "source": [
    "### Task 3 : Marketing funnel"
   ]
  },
  {
   "cell_type": "code",
   "execution_count": 28,
   "metadata": {},
   "outputs": [
    {
     "data": {
      "image/png": "[encoded data removed]",
      "text/plain": [
       "<Figure size 1200x800 with 1 Axes>"
      ]
     },
     "metadata": {},
     "output_type": "display_data"
    }
   ],
   "source": [
    "# ploting the overall marketing funnel (without channel detailization)\n",
    "import matplotlib.pyplot as plt\n",
    "\n",
    "# Calculate the conversion rates from the 'sent' stage\n",
    "conversion_rates = {\n",
    "    'Sent': 1,  # Conversion rate from 'sent' to 'sent' is always 100%\n",
    "    'Delivered': visa_communications_df['delivered'].sum() / visa_communications_df['sent'].sum(),\n",
    "    'Opened': visa_communications_df['opened'].sum() / visa_communications_df['sent'].sum(),\n",
    "    'Clicked': visa_communications_df['clicked'].sum() / visa_communications_df['sent'].sum(),\n",
    "    'Blocked': visa_communications_df['blocked'].sum() / visa_communications_df['sent'].sum()\n",
    "}\n",
    "\n",
    "# Plotting the funnel with conversion rates\n",
    "stages = list(conversion_rates.keys())\n",
    "counts = list(conversion_rates.values())\n",
    "conversion_rates_values = list(conversion_rates.values())\n",
    "\n",
    "plt.figure(figsize=(12, 8))\n",
    "plt.bar(stages, counts, color='skyblue')\n",
    "\n",
    "# Adding conversion rate labels\n",
    "for i in range(len(stages)):\n",
    "    plt.text(i, counts[i] / 2, f'{conversion_rates_values[i]:.2%}', ha='center', va='bottom', color='black')\n",
    "\n",
    "plt.xlabel('Stages')\n",
    "plt.ylabel('Counts')\n",
    "plt.title('Sample Customer Funnel with Conversion Rates (from \"Sent\") for Visa Communications')\n",
    "plt.show()"
   ]
  },
  {
   "cell_type": "code",
   "execution_count": 35,
   "metadata": {},
   "outputs": [
    {
     "data": {
      "text/html": [
       "<div>\n",
       "<style scoped>\n",
       "    .dataframe tbody tr th:only-of-type {\n",
       "        vertical-align: middle;\n",
       "    }\n",
       "\n",
       "    .dataframe tbody tr th {\n",
       "        vertical-align: top;\n",
       "    }\n",
       "\n",
       "    .dataframe thead th {\n",
       "        text-align: right;\n",
       "    }\n",
       "</style>\n",
       "<table border=\"1\" class=\"dataframe\">\n",
       "  <thead>\n",
       "    <tr style=\"text-align: right;\">\n",
       "      <th></th>\n",
       "      <th>sent</th>\n",
       "      <th>delivered</th>\n",
       "      <th>opened</th>\n",
       "      <th>clicked</th>\n",
       "      <th>blocked</th>\n",
       "    </tr>\n",
       "    <tr>\n",
       "      <th>channel_type</th>\n",
       "      <th></th>\n",
       "      <th></th>\n",
       "      <th></th>\n",
       "      <th></th>\n",
       "      <th></th>\n",
       "    </tr>\n",
       "  </thead>\n",
       "  <tbody>\n",
       "    <tr>\n",
       "      <th>EMAIL</th>\n",
       "      <td>524209</td>\n",
       "      <td>524209</td>\n",
       "      <td>53686</td>\n",
       "      <td>3166</td>\n",
       "      <td>101</td>\n",
       "    </tr>\n",
       "    <tr>\n",
       "      <th>PUSH</th>\n",
       "      <td>0</td>\n",
       "      <td>0</td>\n",
       "      <td>0</td>\n",
       "      <td>0</td>\n",
       "      <td>0</td>\n",
       "    </tr>\n",
       "    <tr>\n",
       "      <th>Popup</th>\n",
       "      <td>296842</td>\n",
       "      <td>264373</td>\n",
       "      <td>263359</td>\n",
       "      <td>21232</td>\n",
       "      <td>0</td>\n",
       "    </tr>\n",
       "  </tbody>\n",
       "</table>\n",
       "</div>"
      ],
      "text/plain": [
       "                sent  delivered  opened  clicked  blocked\n",
       "channel_type                                             \n",
       "EMAIL         524209     524209   53686     3166      101\n",
       "PUSH               0          0       0        0        0\n",
       "Popup         296842     264373  263359    21232        0"
      ]
     },
     "execution_count": 35,
     "metadata": {},
     "output_type": "execute_result"
    }
   ],
   "source": [
    "funnel_data = visa_communications_df.groupby('channel_type').agg({\n",
    "    'sent': 'sum',      \n",
    "    'delivered': 'sum',   \n",
    "    'opened': 'sum',      \n",
    "    'clicked': 'sum',     \n",
    "    'blocked': 'sum'     \n",
    "})\n",
    "funnel_data"
   ]
  },
  {
   "cell_type": "code",
   "execution_count": 84,
   "metadata": {},
   "outputs": [
    {
     "name": "stderr",
     "output_type": "stream",
     "text": [
      "C:\\Users\\Bogdan\\AppData\\Local\\Temp\\ipykernel_23296\\931153720.py:22: UserWarning: set_ticklabels() should only be used with a fixed number of ticks, i.e. after set_ticks() or using a FixedLocator.\n",
      "  axes[i].set_xticklabels(funnel_data.columns, rotation=45)\n",
      "C:\\Users\\Bogdan\\AppData\\Local\\Temp\\ipykernel_23296\\931153720.py:22: UserWarning: set_ticklabels() should only be used with a fixed number of ticks, i.e. after set_ticks() or using a FixedLocator.\n",
      "  axes[i].set_xticklabels(funnel_data.columns, rotation=45)\n",
      "C:\\Users\\Bogdan\\AppData\\Local\\Temp\\ipykernel_23296\\931153720.py:22: UserWarning: set_ticklabels() should only be used with a fixed number of ticks, i.e. after set_ticks() or using a FixedLocator.\n",
      "  axes[i].set_xticklabels(funnel_data.columns, rotation=45)\n"
     ]
    },
    {
     "data": {
      "image/png": "[encoded data removed]",
      "text/plain": [
       "<Figure size 1800x600 with 3 Axes>"
      ]
     },
     "metadata": {},
     "output_type": "display_data"
    }
   ],
   "source": [
    "\n",
    "# Using the previously created sample data\n",
    "# Calculating conversion rates from 'sent' for each stage\n",
    "conversion_data = funnel_data.copy()\n",
    "for stage in conversion_data.columns:\n",
    "    conversion_data[stage] = conversion_data[stage] / funnel_data['sent']\n",
    "\n",
    "# Plotting the funnel with conversion rates for each channel\n",
    "fig, axes = plt.subplots(1, 3, figsize=(18, 6), sharey=True)\n",
    "channels = funnel_data.index\n",
    "\n",
    "for i, channel in enumerate(channels):\n",
    "    # Plotting counts\n",
    "    axes[i].bar(funnel_data.columns, funnel_data.loc[channel], color='skyblue', alpha=0.6, label='Counts')\n",
    "\n",
    "    # Adding conversion rate labels\n",
    "    for j, stage in enumerate(funnel_data.columns):\n",
    "        conversion_rate = conversion_data.loc[channel, stage]\n",
    "        axes[i].text(j, funnel_data.loc[channel, stage] / 2, f'{conversion_rate:.2%}', ha='center', color='black')\n",
    "\n",
    "    axes[i].set_title(f'{channel.capitalize()} Channel')\n",
    "    axes[i].set_xlabel('Stages')\n",
    "    axes[i].set_xticklabels(funnel_data.columns, rotation=45)\n",
    "\n",
    "plt.suptitle('Customer Funnel with Conversion Rates for Each Channel Type ')\n",
    "plt.ylabel('Counts')\n",
    "plt.tight_layout(rect=[0, 0.03, 1, 0.95])\n",
    "plt.show()\n",
    "\n"
   ]
  },
  {
   "cell_type": "markdown",
   "metadata": {
    "id": "XG4zVpMY__Yc"
   },
   "source": [
    "### Task 4.1 : financial effect"
   ]
  },
  {
   "cell_type": "code",
   "execution_count": 37,
   "metadata": {
    "colab": {
     "base_uri": "https://localhost:8080/"
    },
    "id": "qZ3hpJaF0Qto",
    "outputId": "ac63713b-3b57-4730-f57e-cc1b3c3e6c24"
   },
   "outputs": [
    {
     "name": "stdout",
     "output_type": "stream",
     "text": [
      "Total Sum of Transactions: 427352337.33\n",
      "Bank's Commission (1%): 4273523.3733\n"
     ]
    }
   ],
   "source": [
    "\n",
    "## calculate the 1% bank commission from control group transaction amount\n",
    "\n",
    "# Calculate the total sum of all transactions\n",
    "total_control_revenue = merged_control_group['txn_sum'].sum()\n",
    "\n",
    "# Calculate the bank's commission (1% of the total sum)\n",
    "bank_commission = 0.01 * total_control_revenue\n",
    "\n",
    "# Display the results\n",
    "print(\"Total Sum of Transactions:\", total_control_revenue)\n",
    "print(\"Bank's Commission (1%):\", bank_commission)\n",
    "\n"
   ]
  },
  {
   "cell_type": "code",
   "execution_count": 38,
   "metadata": {
    "colab": {
     "base_uri": "https://localhost:8080/"
    },
    "id": "6lyWmttFIrIK",
    "outputId": "aaef5b58-0b10-486c-b610-f628b4a9d23c"
   },
   "outputs": [
    {
     "data": {
      "text/plain": [
       "427352337.33"
      ]
     },
     "execution_count": 38,
     "metadata": {},
     "output_type": "execute_result"
    }
   ],
   "source": [
    "control_group_revenue = total_control_revenue\n",
    "control_group_revenue"
   ]
  },
  {
   "cell_type": "code",
   "execution_count": 39,
   "metadata": {
    "id": "-q6sqMCT_P_y"
   },
   "outputs": [],
   "source": [
    "## calculate the financial effect for test group\n",
    "\n",
    "test_group_financial = pd.merge(visa_transactions_df , visa_communications_df, on='cust_id', how='inner')\n",
    "test_group_financial\n",
    "\n",
    "# Convert date columns to datetime format if they are not already\n",
    "test_group_financial['contact_dt'] = pd.to_datetime(test_group_financial['contact_dt'])\n",
    "test_group_financial['transaction_dt'] = pd.to_datetime(test_group_financial['transaction_dt'])\n",
    "\n",
    "# Calculate the difference in days between contact_dt and transaction_dt\n",
    "test_group_financial['date_diff'] = (test_group_financial['transaction_dt'] - test_group_financial['contact_dt']).dt.days"
   ]
  },
  {
   "cell_type": "code",
   "execution_count": 40,
   "metadata": {
    "id": "J8OynM3Pk5J3"
   },
   "outputs": [],
   "source": [
    "# Create a new column 'txn_500' to indicate if txn_sum is above 500\n",
    "test_group_financial['txn_500'] = test_group_financial['txn_sum'] > 500"
   ]
  },
  {
   "cell_type": "code",
   "execution_count": 41,
   "metadata": {
    "id": "hTTrdiLp2FHZ"
   },
   "outputs": [
    {
     "name": "stderr",
     "output_type": "stream",
     "text": [
      "C:\\Users\\Bogdan\\AppData\\Local\\Temp\\ipykernel_23296\\2661537503.py:9: DeprecationWarning: DataFrameGroupBy.apply operated on the grouping columns. This behavior is deprecated, and in a future version of pandas the grouping columns will be excluded from the operation. Either pass `include_groups=False` to exclude the groupings or explicitly select the grouping columns after groupby to silence this warning.\n",
      "  cashback_eligibility = test_group_financial.groupby('cust_id').apply(check_cashback_eligibility)\n"
     ]
    }
   ],
   "source": [
    "# Define a function to check cashback eligibility for each customer group\n",
    "def check_cashback_eligibility(group):\n",
    "    # Filter transactions where date_diff <= 14 and txn_500 is True\n",
    "    eligible_transactions = group[(group['date_diff'] <= 14) & (group['txn_500'])]\n",
    "    # Check if the frequency of such transactions is 3 or more\n",
    "    return len(eligible_transactions) >= 3\n",
    "\n",
    "# Apply the function to each customer group\n",
    "cashback_eligibility = test_group_financial.groupby('cust_id').apply(check_cashback_eligibility)\n",
    "# Map the results back to the original DataFrame\n",
    "test_group_financial['cashback_eligible'] = test_group_financial['cust_id'].map(cashback_eligibility)\n"
   ]
  },
  {
   "cell_type": "code",
   "execution_count": null,
   "metadata": {
    "colab": {
     "base_uri": "https://localhost:8080/",
     "height": 443
    },
    "id": "Y4YGRqxuajHU",
    "outputId": "9f218b35-ad18-4980-f071-47df24181c19"
   },
   "outputs": [
    {
     "data": {
      "text/html": [
       "\n",
       "  <div id=\"df-ad19b7e7-cb27-4c54-9360-1d21199f179c\" class=\"colab-df-container\">\n",
       "    <div>\n",
       "<style scoped>\n",
       "    .dataframe tbody tr th:only-of-type {\n",
       "        vertical-align: middle;\n",
       "    }\n",
       "\n",
       "    .dataframe tbody tr th {\n",
       "        vertical-align: top;\n",
       "    }\n",
       "\n",
       "    .dataframe thead th {\n",
       "        text-align: right;\n",
       "    }\n",
       "</style>\n",
       "<table border=\"1\" class=\"dataframe\">\n",
       "  <thead>\n",
       "    <tr style=\"text-align: right;\">\n",
       "      <th></th>\n",
       "      <th>cust_id</th>\n",
       "      <th>transaction_dt</th>\n",
       "      <th>mcc_id</th>\n",
       "      <th>txn_sum</th>\n",
       "      <th>channel_type</th>\n",
       "      <th>contact_dt</th>\n",
       "      <th>control_group_flg</th>\n",
       "      <th>sent</th>\n",
       "      <th>delivered</th>\n",
       "      <th>opened</th>\n",
       "      <th>clicked</th>\n",
       "      <th>blocked</th>\n",
       "      <th>date_diff</th>\n",
       "      <th>txn_500</th>\n",
       "      <th>cashback_eligible</th>\n",
       "      <th>eligible_sum</th>\n",
       "      <th>cashback_sum</th>\n",
       "    </tr>\n",
       "  </thead>\n",
       "  <tbody>\n",
       "    <tr>\n",
       "      <th>0</th>\n",
       "      <td>db5e62076fad27...</td>\n",
       "      <td>2021-09-09</td>\n",
       "      <td>5399</td>\n",
       "      <td>2322.00</td>\n",
       "      <td>PUSH</td>\n",
       "      <td>2021-08-12</td>\n",
       "      <td>1</td>\n",
       "      <td>0</td>\n",
       "      <td>0</td>\n",
       "      <td>0</td>\n",
       "      <td>0</td>\n",
       "      <td>0</td>\n",
       "      <td>28</td>\n",
       "      <td>True</td>\n",
       "      <td>True</td>\n",
       "      <td>2322.00</td>\n",
       "      <td>116.100</td>\n",
       "    </tr>\n",
       "    <tr>\n",
       "      <th>1</th>\n",
       "      <td>db5e62076fad27...</td>\n",
       "      <td>2021-09-02</td>\n",
       "      <td>5541</td>\n",
       "      <td>1499.98</td>\n",
       "      <td>PUSH</td>\n",
       "      <td>2021-08-12</td>\n",
       "      <td>1</td>\n",
       "      <td>0</td>\n",
       "      <td>0</td>\n",
       "      <td>0</td>\n",
       "      <td>0</td>\n",
       "      <td>0</td>\n",
       "      <td>21</td>\n",
       "      <td>True</td>\n",
       "      <td>True</td>\n",
       "      <td>1499.98</td>\n",
       "      <td>74.999</td>\n",
       "    </tr>\n",
       "    <tr>\n",
       "      <th>2</th>\n",
       "      <td>db5e62076fad27...</td>\n",
       "      <td>2021-09-15</td>\n",
       "      <td>5399</td>\n",
       "      <td>2010.00</td>\n",
       "      <td>PUSH</td>\n",
       "      <td>2021-08-12</td>\n",
       "      <td>1</td>\n",
       "      <td>0</td>\n",
       "      <td>0</td>\n",
       "      <td>0</td>\n",
       "      <td>0</td>\n",
       "      <td>0</td>\n",
       "      <td>34</td>\n",
       "      <td>True</td>\n",
       "      <td>True</td>\n",
       "      <td>2010.00</td>\n",
       "      <td>100.500</td>\n",
       "    </tr>\n",
       "    <tr>\n",
       "      <th>3</th>\n",
       "      <td>db5e62076fad27...</td>\n",
       "      <td>2021-08-28</td>\n",
       "      <td>5499</td>\n",
       "      <td>476.00</td>\n",
       "      <td>PUSH</td>\n",
       "      <td>2021-08-12</td>\n",
       "      <td>1</td>\n",
       "      <td>0</td>\n",
       "      <td>0</td>\n",
       "      <td>0</td>\n",
       "      <td>0</td>\n",
       "      <td>0</td>\n",
       "      <td>16</td>\n",
       "      <td>False</td>\n",
       "      <td>True</td>\n",
       "      <td>476.00</td>\n",
       "      <td>23.800</td>\n",
       "    </tr>\n",
       "    <tr>\n",
       "      <th>4</th>\n",
       "      <td>db5e62076fad27...</td>\n",
       "      <td>2021-08-30</td>\n",
       "      <td>5399</td>\n",
       "      <td>2536.00</td>\n",
       "      <td>PUSH</td>\n",
       "      <td>2021-08-12</td>\n",
       "      <td>1</td>\n",
       "      <td>0</td>\n",
       "      <td>0</td>\n",
       "      <td>0</td>\n",
       "      <td>0</td>\n",
       "      <td>0</td>\n",
       "      <td>18</td>\n",
       "      <td>True</td>\n",
       "      <td>True</td>\n",
       "      <td>2536.00</td>\n",
       "      <td>126.800</td>\n",
       "    </tr>\n",
       "    <tr>\n",
       "      <th>...</th>\n",
       "      <td>...</td>\n",
       "      <td>...</td>\n",
       "      <td>...</td>\n",
       "      <td>...</td>\n",
       "      <td>...</td>\n",
       "      <td>...</td>\n",
       "      <td>...</td>\n",
       "      <td>...</td>\n",
       "      <td>...</td>\n",
       "      <td>...</td>\n",
       "      <td>...</td>\n",
       "      <td>...</td>\n",
       "      <td>...</td>\n",
       "      <td>...</td>\n",
       "      <td>...</td>\n",
       "      <td>...</td>\n",
       "      <td>...</td>\n",
       "    </tr>\n",
       "    <tr>\n",
       "      <th>422023</th>\n",
       "      <td>bfd06350e20bf9...</td>\n",
       "      <td>2021-08-29</td>\n",
       "      <td>5541</td>\n",
       "      <td>999.89</td>\n",
       "      <td>PUSH</td>\n",
       "      <td>2021-08-12</td>\n",
       "      <td>0</td>\n",
       "      <td>0</td>\n",
       "      <td>0</td>\n",
       "      <td>0</td>\n",
       "      <td>0</td>\n",
       "      <td>0</td>\n",
       "      <td>17</td>\n",
       "      <td>True</td>\n",
       "      <td>False</td>\n",
       "      <td>0.00</td>\n",
       "      <td>0.000</td>\n",
       "    </tr>\n",
       "    <tr>\n",
       "      <th>422024</th>\n",
       "      <td>258e37b4b396d0...</td>\n",
       "      <td>2021-08-30</td>\n",
       "      <td>7999</td>\n",
       "      <td>792.60</td>\n",
       "      <td>PUSH</td>\n",
       "      <td>2021-08-12</td>\n",
       "      <td>0</td>\n",
       "      <td>0</td>\n",
       "      <td>0</td>\n",
       "      <td>0</td>\n",
       "      <td>0</td>\n",
       "      <td>0</td>\n",
       "      <td>18</td>\n",
       "      <td>True</td>\n",
       "      <td>False</td>\n",
       "      <td>0.00</td>\n",
       "      <td>0.000</td>\n",
       "    </tr>\n",
       "    <tr>\n",
       "      <th>422025</th>\n",
       "      <td>68696e369dd5a6...</td>\n",
       "      <td>2021-08-26</td>\n",
       "      <td>5812</td>\n",
       "      <td>106.00</td>\n",
       "      <td>EMAIL</td>\n",
       "      <td>2021-08-12</td>\n",
       "      <td>0</td>\n",
       "      <td>1</td>\n",
       "      <td>1</td>\n",
       "      <td>1</td>\n",
       "      <td>0</td>\n",
       "      <td>0</td>\n",
       "      <td>14</td>\n",
       "      <td>False</td>\n",
       "      <td>False</td>\n",
       "      <td>0.00</td>\n",
       "      <td>0.000</td>\n",
       "    </tr>\n",
       "    <tr>\n",
       "      <th>422026</th>\n",
       "      <td>ce21285f89fb0e...</td>\n",
       "      <td>2021-09-15</td>\n",
       "      <td>5691</td>\n",
       "      <td>3699.00</td>\n",
       "      <td>PUSH</td>\n",
       "      <td>2021-08-12</td>\n",
       "      <td>0</td>\n",
       "      <td>0</td>\n",
       "      <td>0</td>\n",
       "      <td>0</td>\n",
       "      <td>0</td>\n",
       "      <td>0</td>\n",
       "      <td>34</td>\n",
       "      <td>True</td>\n",
       "      <td>False</td>\n",
       "      <td>0.00</td>\n",
       "      <td>0.000</td>\n",
       "    </tr>\n",
       "    <tr>\n",
       "      <th>422027</th>\n",
       "      <td>516a31a866c9fb...</td>\n",
       "      <td>2021-09-04</td>\n",
       "      <td>5814</td>\n",
       "      <td>545.00</td>\n",
       "      <td>EMAIL</td>\n",
       "      <td>2021-08-12</td>\n",
       "      <td>0</td>\n",
       "      <td>1</td>\n",
       "      <td>1</td>\n",
       "      <td>0</td>\n",
       "      <td>0</td>\n",
       "      <td>0</td>\n",
       "      <td>23</td>\n",
       "      <td>True</td>\n",
       "      <td>False</td>\n",
       "      <td>0.00</td>\n",
       "      <td>0.000</td>\n",
       "    </tr>\n",
       "  </tbody>\n",
       "</table>\n",
       "<p>422028 rows × 17 columns</p>\n",
       "</div>\n",
       "    <div class=\"colab-df-buttons\">\n",
       "\n",
       "  <div class=\"colab-df-container\">\n",
       "    <button class=\"colab-df-convert\" onclick=\"convertToInteractive('df-ad19b7e7-cb27-4c54-9360-1d21199f179c')\"\n",
       "            title=\"Convert this dataframe to an interactive table.\"\n",
       "            style=\"display:none;\">\n",
       "\n",
       "  <svg xmlns=\"http://www.w3.org/2000/svg\" height=\"24px\" viewBox=\"0 -960 960 960\">\n",
       "    <path d=\"M120-120v-720h720v720H120Zm60-500h600v-160H180v160Zm220 220h160v-160H400v160Zm0 220h160v-160H400v160ZM180-400h160v-160H180v160Zm440 0h160v-160H620v160ZM180-180h160v-160H180v160Zm440 0h160v-160H620v160Z\"/>\n",
       "  </svg>\n",
       "    </button>\n",
       "\n",
       "  <style>\n",
       "    .colab-df-container {\n",
       "      display:flex;\n",
       "      gap: 12px;\n",
       "    }\n",
       "\n",
       "    .colab-df-convert {\n",
       "      background-color: #E8F0FE;\n",
       "      border: none;\n",
       "      border-radius: 50%;\n",
       "      cursor: pointer;\n",
       "      display: none;\n",
       "      fill: #1967D2;\n",
       "      height: 32px;\n",
       "      padding: 0 0 0 0;\n",
       "      width: 32px;\n",
       "    }\n",
       "\n",
       "    .colab-df-convert:hover {\n",
       "      background-color: #E2EBFA;\n",
       "      box-shadow: 0px 1px 2px rgba(60, 64, 67, 0.3), 0px 1px 3px 1px rgba(60, 64, 67, 0.15);\n",
       "      fill: #174EA6;\n",
       "    }\n",
       "\n",
       "    .colab-df-buttons div {\n",
       "      margin-bottom: 4px;\n",
       "    }\n",
       "\n",
       "    [theme=dark] .colab-df-convert {\n",
       "      background-color: #3B4455;\n",
       "      fill: #D2E3FC;\n",
       "    }\n",
       "\n",
       "    [theme=dark] .colab-df-convert:hover {\n",
       "      background-color: #434B5C;\n",
       "      box-shadow: 0px 1px 3px 1px rgba(0, 0, 0, 0.15);\n",
       "      filter: drop-shadow(0px 1px 2px rgba(0, 0, 0, 0.3));\n",
       "      fill: #FFFFFF;\n",
       "    }\n",
       "  </style>\n",
       "\n",
       "    <script>\n",
       "      const buttonEl =\n",
       "        document.querySelector('#df-ad19b7e7-cb27-4c54-9360-1d21199f179c button.colab-df-convert');\n",
       "      buttonEl.style.display =\n",
       "        google.colab.kernel.accessAllowed ? 'block' : 'none';\n",
       "\n",
       "      async function convertToInteractive(key) {\n",
       "        const element = document.querySelector('#df-ad19b7e7-cb27-4c54-9360-1d21199f179c');\n",
       "        const dataTable =\n",
       "          await google.colab.kernel.invokeFunction('convertToInteractive',\n",
       "                                                    [key], {});\n",
       "        if (!dataTable) return;\n",
       "\n",
       "        const docLinkHtml = 'Like what you see? Visit the ' +\n",
       "          '<a target=\"_blank\" href=https://colab.research.google.com/notebooks/data_table.ipynb>data table notebook</a>'\n",
       "          + ' to learn more about interactive tables.';\n",
       "        element.innerHTML = '';\n",
       "        dataTable['output_type'] = 'display_data';\n",
       "        await google.colab.output.renderOutput(dataTable, element);\n",
       "        const docLink = document.createElement('div');\n",
       "        docLink.innerHTML = docLinkHtml;\n",
       "        element.appendChild(docLink);\n",
       "      }\n",
       "    </script>\n",
       "  </div>\n",
       "\n",
       "\n",
       "<div id=\"df-4ecece37-836f-426f-9a02-c455c963a1d1\">\n",
       "  <button class=\"colab-df-quickchart\" onclick=\"quickchart('df-4ecece37-836f-426f-9a02-c455c963a1d1')\"\n",
       "            title=\"Suggest charts\"\n",
       "            style=\"display:none;\">\n",
       "\n",
       "<svg xmlns=\"http://www.w3.org/2000/svg\" height=\"24px\"viewBox=\"0 0 24 24\"\n",
       "     width=\"24px\">\n",
       "    <g>\n",
       "        <path d=\"M19 3H5c-1.1 0-2 .9-2 2v14c0 1.1.9 2 2 2h14c1.1 0 2-.9 2-2V5c0-1.1-.9-2-2-2zM9 17H7v-7h2v7zm4 0h-2V7h2v10zm4 0h-2v-4h2v4z\"/>\n",
       "    </g>\n",
       "</svg>\n",
       "  </button>\n",
       "\n",
       "<style>\n",
       "  .colab-df-quickchart {\n",
       "      --bg-color: #E8F0FE;\n",
       "      --fill-color: #1967D2;\n",
       "      --hover-bg-color: #E2EBFA;\n",
       "      --hover-fill-color: #174EA6;\n",
       "      --disabled-fill-color: #AAA;\n",
       "      --disabled-bg-color: #DDD;\n",
       "  }\n",
       "\n",
       "  [theme=dark] .colab-df-quickchart {\n",
       "      --bg-color: #3B4455;\n",
       "      --fill-color: #D2E3FC;\n",
       "      --hover-bg-color: #434B5C;\n",
       "      --hover-fill-color: #FFFFFF;\n",
       "      --disabled-bg-color: #3B4455;\n",
       "      --disabled-fill-color: #666;\n",
       "  }\n",
       "\n",
       "  .colab-df-quickchart {\n",
       "    background-color: var(--bg-color);\n",
       "    border: none;\n",
       "    border-radius: 50%;\n",
       "    cursor: pointer;\n",
       "    display: none;\n",
       "    fill: var(--fill-color);\n",
       "    height: 32px;\n",
       "    padding: 0;\n",
       "    width: 32px;\n",
       "  }\n",
       "\n",
       "  .colab-df-quickchart:hover {\n",
       "    background-color: var(--hover-bg-color);\n",
       "    box-shadow: 0 1px 2px rgba(60, 64, 67, 0.3), 0 1px 3px 1px rgba(60, 64, 67, 0.15);\n",
       "    fill: var(--button-hover-fill-color);\n",
       "  }\n",
       "\n",
       "  .colab-df-quickchart-complete:disabled,\n",
       "  .colab-df-quickchart-complete:disabled:hover {\n",
       "    background-color: var(--disabled-bg-color);\n",
       "    fill: var(--disabled-fill-color);\n",
       "    box-shadow: none;\n",
       "  }\n",
       "\n",
       "  .colab-df-spinner {\n",
       "    border: 2px solid var(--fill-color);\n",
       "    border-color: transparent;\n",
       "    border-bottom-color: var(--fill-color);\n",
       "    animation:\n",
       "      spin 1s steps(1) infinite;\n",
       "  }\n",
       "\n",
       "  @keyframes spin {\n",
       "    0% {\n",
       "      border-color: transparent;\n",
       "      border-bottom-color: var(--fill-color);\n",
       "      border-left-color: var(--fill-color);\n",
       "    }\n",
       "    20% {\n",
       "      border-color: transparent;\n",
       "      border-left-color: var(--fill-color);\n",
       "      border-top-color: var(--fill-color);\n",
       "    }\n",
       "    30% {\n",
       "      border-color: transparent;\n",
       "      border-left-color: var(--fill-color);\n",
       "      border-top-color: var(--fill-color);\n",
       "      border-right-color: var(--fill-color);\n",
       "    }\n",
       "    40% {\n",
       "      border-color: transparent;\n",
       "      border-right-color: var(--fill-color);\n",
       "      border-top-color: var(--fill-color);\n",
       "    }\n",
       "    60% {\n",
       "      border-color: transparent;\n",
       "      border-right-color: var(--fill-color);\n",
       "    }\n",
       "    80% {\n",
       "      border-color: transparent;\n",
       "      border-right-color: var(--fill-color);\n",
       "      border-bottom-color: var(--fill-color);\n",
       "    }\n",
       "    90% {\n",
       "      border-color: transparent;\n",
       "      border-bottom-color: var(--fill-color);\n",
       "    }\n",
       "  }\n",
       "</style>\n",
       "\n",
       "  <script>\n",
       "    async function quickchart(key) {\n",
       "      const quickchartButtonEl =\n",
       "        document.querySelector('#' + key + ' button');\n",
       "      quickchartButtonEl.disabled = true;  // To prevent multiple clicks.\n",
       "      quickchartButtonEl.classList.add('colab-df-spinner');\n",
       "      try {\n",
       "        const charts = await google.colab.kernel.invokeFunction(\n",
       "            'suggestCharts', [key], {});\n",
       "      } catch (error) {\n",
       "        console.error('Error during call to suggestCharts:', error);\n",
       "      }\n",
       "      quickchartButtonEl.classList.remove('colab-df-spinner');\n",
       "      quickchartButtonEl.classList.add('colab-df-quickchart-complete');\n",
       "    }\n",
       "    (() => {\n",
       "      let quickchartButtonEl =\n",
       "        document.querySelector('#df-4ecece37-836f-426f-9a02-c455c963a1d1 button');\n",
       "      quickchartButtonEl.style.display =\n",
       "        google.colab.kernel.accessAllowed ? 'block' : 'none';\n",
       "    })();\n",
       "  </script>\n",
       "</div>\n",
       "    </div>\n",
       "  </div>\n"
      ],
      "text/plain": [
       "                  cust_id transaction_dt  mcc_id  txn_sum channel_type  \\\n",
       "0       db5e62076fad27...     2021-09-09    5399  2322.00         PUSH   \n",
       "1       db5e62076fad27...     2021-09-02    5541  1499.98         PUSH   \n",
       "2       db5e62076fad27...     2021-09-15    5399  2010.00         PUSH   \n",
       "3       db5e62076fad27...     2021-08-28    5499   476.00         PUSH   \n",
       "4       db5e62076fad27...     2021-08-30    5399  2536.00         PUSH   \n",
       "...                   ...            ...     ...      ...          ...   \n",
       "422023  bfd06350e20bf9...     2021-08-29    5541   999.89         PUSH   \n",
       "422024  258e37b4b396d0...     2021-08-30    7999   792.60         PUSH   \n",
       "422025  68696e369dd5a6...     2021-08-26    5812   106.00        EMAIL   \n",
       "422026  ce21285f89fb0e...     2021-09-15    5691  3699.00         PUSH   \n",
       "422027  516a31a866c9fb...     2021-09-04    5814   545.00        EMAIL   \n",
       "\n",
       "       contact_dt  control_group_flg  sent  delivered  opened  clicked  \\\n",
       "0      2021-08-12                  1     0          0       0        0   \n",
       "1      2021-08-12                  1     0          0       0        0   \n",
       "2      2021-08-12                  1     0          0       0        0   \n",
       "3      2021-08-12                  1     0          0       0        0   \n",
       "4      2021-08-12                  1     0          0       0        0   \n",
       "...           ...                ...   ...        ...     ...      ...   \n",
       "422023 2021-08-12                  0     0          0       0        0   \n",
       "422024 2021-08-12                  0     0          0       0        0   \n",
       "422025 2021-08-12                  0     1          1       1        0   \n",
       "422026 2021-08-12                  0     0          0       0        0   \n",
       "422027 2021-08-12                  0     1          1       0        0   \n",
       "\n",
       "        blocked  date_diff  txn_500  cashback_eligible  eligible_sum  \\\n",
       "0             0         28     True               True       2322.00   \n",
       "1             0         21     True               True       1499.98   \n",
       "2             0         34     True               True       2010.00   \n",
       "3             0         16    False               True        476.00   \n",
       "4             0         18     True               True       2536.00   \n",
       "...         ...        ...      ...                ...           ...   \n",
       "422023        0         17     True              False          0.00   \n",
       "422024        0         18     True              False          0.00   \n",
       "422025        0         14    False              False          0.00   \n",
       "422026        0         34     True              False          0.00   \n",
       "422027        0         23     True              False          0.00   \n",
       "\n",
       "        cashback_sum  \n",
       "0            116.100  \n",
       "1             74.999  \n",
       "2            100.500  \n",
       "3             23.800  \n",
       "4            126.800  \n",
       "...              ...  \n",
       "422023         0.000  \n",
       "422024         0.000  \n",
       "422025         0.000  \n",
       "422026         0.000  \n",
       "422027         0.000  \n",
       "\n",
       "[422028 rows x 17 columns]"
      ]
     },
     "execution_count": 67,
     "metadata": {},
     "output_type": "execute_result"
    }
   ],
   "source": [
    "# Create 'eligible_sum' column\n",
    "test_group_financial['eligible_sum'] = test_group_financial.apply(lambda row: row['txn_sum'] if row['cashback_eligible'] else 0, axis=1)\n",
    "\n",
    "# Create 'cashback_sum' column\n",
    "test_group_financial['cashback_sum'] = 0.05 * test_group_financial['eligible_sum']\n",
    "\n",
    "test_group_financial"
   ]
  },
  {
   "cell_type": "code",
   "execution_count": 42,
   "metadata": {
    "colab": {
     "base_uri": "https://localhost:8080/",
     "height": 443
    },
    "id": "YCxtMmSk6JRw",
    "outputId": "fe294cbe-fa53-42c3-ba36-f4169fc89c7c"
   },
   "outputs": [
    {
     "data": {
      "text/html": [
       "<div>\n",
       "<style scoped>\n",
       "    .dataframe tbody tr th:only-of-type {\n",
       "        vertical-align: middle;\n",
       "    }\n",
       "\n",
       "    .dataframe tbody tr th {\n",
       "        vertical-align: top;\n",
       "    }\n",
       "\n",
       "    .dataframe thead th {\n",
       "        text-align: right;\n",
       "    }\n",
       "</style>\n",
       "<table border=\"1\" class=\"dataframe\">\n",
       "  <thead>\n",
       "    <tr style=\"text-align: right;\">\n",
       "      <th></th>\n",
       "      <th>cust_id</th>\n",
       "      <th>transaction_dt</th>\n",
       "      <th>mcc_id</th>\n",
       "      <th>txn_sum</th>\n",
       "      <th>channel_type</th>\n",
       "      <th>contact_dt</th>\n",
       "      <th>control_group_flg</th>\n",
       "      <th>sent</th>\n",
       "      <th>delivered</th>\n",
       "      <th>opened</th>\n",
       "      <th>clicked</th>\n",
       "      <th>blocked</th>\n",
       "      <th>date_diff</th>\n",
       "      <th>txn_500</th>\n",
       "      <th>cashback_eligible</th>\n",
       "    </tr>\n",
       "  </thead>\n",
       "  <tbody>\n",
       "    <tr>\n",
       "      <th>0</th>\n",
       "      <td>db5e62076fad27...</td>\n",
       "      <td>2021-09-09</td>\n",
       "      <td>5399</td>\n",
       "      <td>2322.00</td>\n",
       "      <td>PUSH</td>\n",
       "      <td>2021-08-12</td>\n",
       "      <td>1</td>\n",
       "      <td>0</td>\n",
       "      <td>0</td>\n",
       "      <td>0</td>\n",
       "      <td>0</td>\n",
       "      <td>0</td>\n",
       "      <td>28</td>\n",
       "      <td>True</td>\n",
       "      <td>True</td>\n",
       "    </tr>\n",
       "    <tr>\n",
       "      <th>1</th>\n",
       "      <td>9fc01d326a0adc...</td>\n",
       "      <td>2021-09-07</td>\n",
       "      <td>5533</td>\n",
       "      <td>1245.00</td>\n",
       "      <td>PUSH</td>\n",
       "      <td>2021-08-12</td>\n",
       "      <td>0</td>\n",
       "      <td>0</td>\n",
       "      <td>0</td>\n",
       "      <td>0</td>\n",
       "      <td>0</td>\n",
       "      <td>0</td>\n",
       "      <td>26</td>\n",
       "      <td>True</td>\n",
       "      <td>True</td>\n",
       "    </tr>\n",
       "    <tr>\n",
       "      <th>2</th>\n",
       "      <td>7afcb430aaf9ba...</td>\n",
       "      <td>2021-08-30</td>\n",
       "      <td>5921</td>\n",
       "      <td>29.99</td>\n",
       "      <td>PUSH</td>\n",
       "      <td>2021-08-12</td>\n",
       "      <td>0</td>\n",
       "      <td>0</td>\n",
       "      <td>0</td>\n",
       "      <td>0</td>\n",
       "      <td>0</td>\n",
       "      <td>0</td>\n",
       "      <td>18</td>\n",
       "      <td>False</td>\n",
       "      <td>True</td>\n",
       "    </tr>\n",
       "    <tr>\n",
       "      <th>8</th>\n",
       "      <td>ec1acb6ccaaf88...</td>\n",
       "      <td>2021-08-22</td>\n",
       "      <td>5977</td>\n",
       "      <td>687.00</td>\n",
       "      <td>EMAIL</td>\n",
       "      <td>2021-08-12</td>\n",
       "      <td>0</td>\n",
       "      <td>1</td>\n",
       "      <td>1</td>\n",
       "      <td>0</td>\n",
       "      <td>0</td>\n",
       "      <td>0</td>\n",
       "      <td>10</td>\n",
       "      <td>True</td>\n",
       "      <td>True</td>\n",
       "    </tr>\n",
       "    <tr>\n",
       "      <th>9</th>\n",
       "      <td>d33ced03426b62...</td>\n",
       "      <td>2021-08-28</td>\n",
       "      <td>4722</td>\n",
       "      <td>36360.00</td>\n",
       "      <td>PUSH</td>\n",
       "      <td>2021-08-12</td>\n",
       "      <td>0</td>\n",
       "      <td>0</td>\n",
       "      <td>0</td>\n",
       "      <td>0</td>\n",
       "      <td>0</td>\n",
       "      <td>0</td>\n",
       "      <td>16</td>\n",
       "      <td>True</td>\n",
       "      <td>True</td>\n",
       "    </tr>\n",
       "    <tr>\n",
       "      <th>...</th>\n",
       "      <td>...</td>\n",
       "      <td>...</td>\n",
       "      <td>...</td>\n",
       "      <td>...</td>\n",
       "      <td>...</td>\n",
       "      <td>...</td>\n",
       "      <td>...</td>\n",
       "      <td>...</td>\n",
       "      <td>...</td>\n",
       "      <td>...</td>\n",
       "      <td>...</td>\n",
       "      <td>...</td>\n",
       "      <td>...</td>\n",
       "      <td>...</td>\n",
       "      <td>...</td>\n",
       "    </tr>\n",
       "    <tr>\n",
       "      <th>422015</th>\n",
       "      <td>e16c936dabdcf9...</td>\n",
       "      <td>2021-08-28</td>\n",
       "      <td>5541</td>\n",
       "      <td>1899.20</td>\n",
       "      <td>EMAIL</td>\n",
       "      <td>2021-08-13</td>\n",
       "      <td>0</td>\n",
       "      <td>1</td>\n",
       "      <td>1</td>\n",
       "      <td>0</td>\n",
       "      <td>0</td>\n",
       "      <td>0</td>\n",
       "      <td>15</td>\n",
       "      <td>True</td>\n",
       "      <td>True</td>\n",
       "    </tr>\n",
       "    <tr>\n",
       "      <th>422016</th>\n",
       "      <td>e16c936dabdcf9...</td>\n",
       "      <td>2021-08-28</td>\n",
       "      <td>5541</td>\n",
       "      <td>1899.20</td>\n",
       "      <td>PUSH</td>\n",
       "      <td>2021-08-12</td>\n",
       "      <td>0</td>\n",
       "      <td>0</td>\n",
       "      <td>0</td>\n",
       "      <td>0</td>\n",
       "      <td>0</td>\n",
       "      <td>0</td>\n",
       "      <td>16</td>\n",
       "      <td>True</td>\n",
       "      <td>True</td>\n",
       "    </tr>\n",
       "    <tr>\n",
       "      <th>422017</th>\n",
       "      <td>f2cc6283683a1f...</td>\n",
       "      <td>2021-09-15</td>\n",
       "      <td>5411</td>\n",
       "      <td>56.00</td>\n",
       "      <td>PUSH</td>\n",
       "      <td>2021-08-12</td>\n",
       "      <td>0</td>\n",
       "      <td>0</td>\n",
       "      <td>0</td>\n",
       "      <td>0</td>\n",
       "      <td>0</td>\n",
       "      <td>0</td>\n",
       "      <td>34</td>\n",
       "      <td>False</td>\n",
       "      <td>True</td>\n",
       "    </tr>\n",
       "    <tr>\n",
       "      <th>422018</th>\n",
       "      <td>077ad2952cd593...</td>\n",
       "      <td>2021-09-14</td>\n",
       "      <td>5814</td>\n",
       "      <td>299.98</td>\n",
       "      <td>PUSH</td>\n",
       "      <td>2021-08-12</td>\n",
       "      <td>0</td>\n",
       "      <td>0</td>\n",
       "      <td>0</td>\n",
       "      <td>0</td>\n",
       "      <td>0</td>\n",
       "      <td>0</td>\n",
       "      <td>33</td>\n",
       "      <td>False</td>\n",
       "      <td>True</td>\n",
       "    </tr>\n",
       "    <tr>\n",
       "      <th>422022</th>\n",
       "      <td>97bd37c3a403cc...</td>\n",
       "      <td>2021-09-12</td>\n",
       "      <td>8661</td>\n",
       "      <td>400.00</td>\n",
       "      <td>PUSH</td>\n",
       "      <td>2021-08-12</td>\n",
       "      <td>1</td>\n",
       "      <td>0</td>\n",
       "      <td>0</td>\n",
       "      <td>0</td>\n",
       "      <td>0</td>\n",
       "      <td>0</td>\n",
       "      <td>31</td>\n",
       "      <td>False</td>\n",
       "      <td>True</td>\n",
       "    </tr>\n",
       "  </tbody>\n",
       "</table>\n",
       "<p>176008 rows × 15 columns</p>\n",
       "</div>"
      ],
      "text/plain": [
       "                  cust_id transaction_dt  mcc_id   txn_sum channel_type  \\\n",
       "0       db5e62076fad27...     2021-09-09    5399   2322.00         PUSH   \n",
       "1       9fc01d326a0adc...     2021-09-07    5533   1245.00         PUSH   \n",
       "2       7afcb430aaf9ba...     2021-08-30    5921     29.99         PUSH   \n",
       "8       ec1acb6ccaaf88...     2021-08-22    5977    687.00        EMAIL   \n",
       "9       d33ced03426b62...     2021-08-28    4722  36360.00         PUSH   \n",
       "...                   ...            ...     ...       ...          ...   \n",
       "422015  e16c936dabdcf9...     2021-08-28    5541   1899.20        EMAIL   \n",
       "422016  e16c936dabdcf9...     2021-08-28    5541   1899.20         PUSH   \n",
       "422017  f2cc6283683a1f...     2021-09-15    5411     56.00         PUSH   \n",
       "422018  077ad2952cd593...     2021-09-14    5814    299.98         PUSH   \n",
       "422022  97bd37c3a403cc...     2021-09-12    8661    400.00         PUSH   \n",
       "\n",
       "       contact_dt  control_group_flg  sent  delivered  opened  clicked  \\\n",
       "0      2021-08-12                  1     0          0       0        0   \n",
       "1      2021-08-12                  0     0          0       0        0   \n",
       "2      2021-08-12                  0     0          0       0        0   \n",
       "8      2021-08-12                  0     1          1       0        0   \n",
       "9      2021-08-12                  0     0          0       0        0   \n",
       "...           ...                ...   ...        ...     ...      ...   \n",
       "422015 2021-08-13                  0     1          1       0        0   \n",
       "422016 2021-08-12                  0     0          0       0        0   \n",
       "422017 2021-08-12                  0     0          0       0        0   \n",
       "422018 2021-08-12                  0     0          0       0        0   \n",
       "422022 2021-08-12                  1     0          0       0        0   \n",
       "\n",
       "        blocked  date_diff  txn_500  cashback_eligible  \n",
       "0             0         28     True               True  \n",
       "1             0         26     True               True  \n",
       "2             0         18    False               True  \n",
       "8             0         10     True               True  \n",
       "9             0         16     True               True  \n",
       "...         ...        ...      ...                ...  \n",
       "422015        0         15     True               True  \n",
       "422016        0         16     True               True  \n",
       "422017        0         34    False               True  \n",
       "422018        0         33    False               True  \n",
       "422022        0         31    False               True  \n",
       "\n",
       "[176008 rows x 15 columns]"
      ]
     },
     "execution_count": 42,
     "metadata": {},
     "output_type": "execute_result"
    }
   ],
   "source": [
    "# create a dataframe only cashback-eligible transactions are shown\n",
    "cashback_eligible_df = test_group_financial[test_group_financial['cashback_eligible']]\n",
    "\n",
    "cashback_eligible_df"
   ]
  },
  {
   "cell_type": "code",
   "execution_count": 85,
   "metadata": {
    "colab": {
     "base_uri": "https://localhost:8080/",
     "height": 35
    },
    "id": "9rgmpUeQuZOa",
    "outputId": "28626b48-98dd-463c-c129-91253664398d"
   },
   "outputs": [
    {
     "data": {
      "text/plain": [
       "'Total_cashback_sum is 5599846.260000001'"
      ]
     },
     "execution_count": 85,
     "metadata": {},
     "output_type": "execute_result"
    }
   ],
   "source": [
    "# Function to calculate cashback\n",
    "def calculate_cashback(row):\n",
    "    if row['cashback_eligible']:\n",
    "        eligible_period = row['transaction_dt'] > row['contact_dt'] + pd.Timedelta(days=14)\n",
    "        if eligible_period:\n",
    "            return 0.05 * row['txn_sum']\n",
    "    return 0\n",
    "\n",
    "# Apply the function to calculate cashback\n",
    "test_group_financial['cashback_sum'] = test_group_financial.apply(calculate_cashback, axis=1)\n",
    "\n",
    "# Calculate total cashback\n",
    "total_cashback = test_group_financial['cashback_sum'].sum()\n",
    "total_cashback_sum_str = \"Total_cashback_sum is \" + str(total_cashback)\n",
    "total_cashback_sum_str"
   ]
  },
  {
   "cell_type": "code",
   "execution_count": 86,
   "metadata": {
    "colab": {
     "base_uri": "https://localhost:8080/",
     "height": 35
    },
    "id": "VRCw82pXvBWi",
    "outputId": "80fc3890-bfd9-45c0-e468-0df83672725e"
   },
   "outputs": [
    {
     "data": {
      "text/plain": [
       "'Total_bank_commision_ is 3386065.3003'"
      ]
     },
     "execution_count": 86,
     "metadata": {},
     "output_type": "execute_result"
    }
   ],
   "source": [
    "# Calculate total sum of transactions\n",
    "total_sum_of_transactions = test_group_financial['txn_sum'].sum()\n",
    "total_sum_of_transactions\n",
    "\n",
    "# Calculate bank commission (1% of total sum of transactions)\n",
    "bank_commission = 0.01 * total_sum_of_transactions\n",
    "bank_commission\n",
    "total_bank_commission_str = \"Total_bank_commision_ is \" + str(bank_commission)\n",
    "total_bank_commission_str\n",
    "\n"
   ]
  },
  {
   "cell_type": "code",
   "execution_count": 87,
   "metadata": {
    "colab": {
     "base_uri": "https://localhost:8080/",
     "height": 35
    },
    "id": "AgRt-LfG9obw",
    "outputId": "09d94b18-896a-4810-bf09-dd77d1a55b7d"
   },
   "outputs": [
    {
     "data": {
      "text/plain": [
       "'Total_cashback_sum is 5599846.260000001'"
      ]
     },
     "execution_count": 87,
     "metadata": {},
     "output_type": "execute_result"
    }
   ],
   "source": [
    "total_cashback_sum_str = \"Total_cashback_sum is \" + str(total_cashback)\n",
    "total_cashback_sum_str"
   ]
  },
  {
   "cell_type": "code",
   "execution_count": 88,
   "metadata": {
    "colab": {
     "base_uri": "https://localhost:8080/",
     "height": 35
    },
    "id": "Cb5_Q6e1A5jE",
    "outputId": "0965c805-12a8-4a44-8fe4-fba3b22f0322"
   },
   "outputs": [
    {
     "data": {
      "text/plain": [
       "'Total_bank_profit_ is -2213780.959700001'"
      ]
     },
     "execution_count": 88,
     "metadata": {},
     "output_type": "execute_result"
    }
   ],
   "source": [
    "bank_profit = bank_commission - total_cashback\n",
    "total_bank_profit_str = \"Total_bank_profit_ is \" + str(bank_profit)\n",
    "total_bank_profit_str"
   ]
  },
  {
   "cell_type": "markdown",
   "metadata": {
    "id": "hmZF_ZRSEgPt"
   },
   "source": [
    "###Task 4.2: check for significance in differnce"
   ]
  },
  {
   "cell_type": "code",
   "execution_count": 47,
   "metadata": {
    "colab": {
     "base_uri": "https://localhost:8080/"
    },
    "id": "P0LIVKKOFWio",
    "outputId": "9beabb17-cd39-4e41-b03f-09d721a65ce5"
   },
   "outputs": [
    {
     "name": "stdout",
     "output_type": "stream",
     "text": [
      "Control group average Order Value (AOV): 786.3055292790721\n"
     ]
    }
   ],
   "source": [
    "## calculate AOV in control gourp\n",
    "\n",
    "total_txn_sum = merged_control_group['txn_sum'].sum()\n",
    "count_txn_sum = merged_control_group['txn_sum'].count()\n",
    "control_AOV = total_txn_sum / count_txn_sum if count_txn_sum != 0 else 0\n",
    "\n",
    "# Display the AOV\n",
    "print(\"Control group average Order Value (AOV):\", control_AOV)"
   ]
  },
  {
   "cell_type": "code",
   "execution_count": 48,
   "metadata": {
    "colab": {
     "base_uri": "https://localhost:8080/"
    },
    "id": "csU8maxQGJi2",
    "outputId": "0e542db6-642d-42be-c958-91b41c551d51"
   },
   "outputs": [
    {
     "name": "stdout",
     "output_type": "stream",
     "text": [
      "Test group average Order Value (AOV): 807.5409818763861\n"
     ]
    }
   ],
   "source": [
    "## calculate AOV in test group\n",
    "\n",
    "total_txn_sum = merged_test_group['txn_sum'].sum()\n",
    "count_txn_sum = merged_test_group['txn_sum'].count()\n",
    "test_AOV = total_txn_sum / count_txn_sum if count_txn_sum != 0 else 0\n",
    "\n",
    "# Display the AOV\n",
    "print(\"Test group average Order Value (AOV):\", test_AOV)"
   ]
  },
  {
   "cell_type": "code",
   "execution_count": 49,
   "metadata": {
    "colab": {
     "base_uri": "https://localhost:8080/"
    },
    "id": "JPLQ7VQUGurR",
    "outputId": "8aeee914-1248-414d-a11f-968e297a493e"
   },
   "outputs": [
    {
     "name": "stdout",
     "output_type": "stream",
     "text": [
      "T-statistic: 0.9481830675508405\n",
      "P-value: 0.3430365093302282\n"
     ]
    }
   ],
   "source": [
    "\n",
    "#conduct T-test using order value of control and test group\n",
    "\n",
    "from scipy import stats\n",
    "\n",
    "\n",
    "# Conduct t-test\n",
    "t_statistic, p_value = stats.ttest_ind(merged_test_group['txn_sum'], merged_control_group['txn_sum'])\n",
    "\n",
    "# Display the results\n",
    "print(\"T-statistic:\", t_statistic)\n",
    "print(\"P-value:\", p_value)\n"
   ]
  },
  {
   "cell_type": "markdown",
   "metadata": {
    "id": "r882bhpvIJMw"
   },
   "source": [
    "It is not significance level on 5%"
   ]
  },
  {
   "cell_type": "markdown",
   "metadata": {
    "id": "BRo6c1707gFA"
   },
   "source": [
    "### Task number 5"
   ]
  },
  {
   "cell_type": "code",
   "execution_count": 50,
   "metadata": {
    "id": "eEoHhi6s7gFA"
   },
   "outputs": [],
   "source": [
    "from sklearn.metrics.pairwise import cosine_similarity\n",
    "from sklearn.metrics import euclidean_distances\n",
    "from sklearn.decomposition import PCA\n",
    "from sklearn.preprocessing import LabelEncoder\n"
   ]
  },
  {
   "cell_type": "code",
   "execution_count": 52,
   "metadata": {
    "colab": {
     "base_uri": "https://localhost:8080/",
     "height": 206
    },
    "id": "pV4RTqon7gFA",
    "outputId": "cd0217b0-0a93-4a37-82d2-72c4edb6cb45"
   },
   "outputs": [
    {
     "data": {
      "text/plain": [
       "(31418100, 7)"
      ]
     },
     "execution_count": 52,
     "metadata": {},
     "output_type": "execute_result"
    }
   ],
   "source": [
    "synthesis_df = pd.read_csv('features.csv')"
   ]
  },
  {
   "cell_type": "code",
   "execution_count": 53,
   "metadata": {},
   "outputs": [
    {
     "data": {
      "text/plain": [
       "(31418100, 7)"
      ]
     },
     "execution_count": 53,
     "metadata": {},
     "output_type": "execute_result"
    }
   ],
   "source": [
    "synthesis_df.shape"
   ]
  },
  {
   "cell_type": "code",
   "execution_count": 54,
   "metadata": {
    "id": "sPG84v3J7gFA"
   },
   "outputs": [],
   "source": [
    "synthesis_df = synthesis_df.drop_duplicates(subset = 'cust_id')"
   ]
  },
  {
   "cell_type": "code",
   "execution_count": 55,
   "metadata": {
    "colab": {
     "base_uri": "https://localhost:8080/",
     "height": 269
    },
    "id": "kQWA5En-7gFB",
    "outputId": "e9ee3505-0632-44c5-8eab-445e52af9b12"
   },
   "outputs": [
    {
     "data": {
      "text/html": [
       "<div>\n",
       "<style scoped>\n",
       "    .dataframe tbody tr th:only-of-type {\n",
       "        vertical-align: middle;\n",
       "    }\n",
       "\n",
       "    .dataframe tbody tr th {\n",
       "        vertical-align: top;\n",
       "    }\n",
       "\n",
       "    .dataframe thead th {\n",
       "        text-align: right;\n",
       "    }\n",
       "</style>\n",
       "<table border=\"1\" class=\"dataframe\">\n",
       "  <thead>\n",
       "    <tr style=\"text-align: right;\">\n",
       "      <th></th>\n",
       "      <th>count_NaN</th>\n",
       "      <th>dtypes</th>\n",
       "      <th>uniq</th>\n",
       "      <th>repeat</th>\n",
       "      <th>shape</th>\n",
       "    </tr>\n",
       "  </thead>\n",
       "  <tbody>\n",
       "    <tr>\n",
       "      <th>cust_id</th>\n",
       "      <td>0</td>\n",
       "      <td>object</td>\n",
       "      <td>1761298</td>\n",
       "      <td>0</td>\n",
       "      <td>1761298</td>\n",
       "    </tr>\n",
       "    <tr>\n",
       "      <th>mnth_gen</th>\n",
       "      <td>0</td>\n",
       "      <td>object</td>\n",
       "      <td>11</td>\n",
       "      <td>1761287</td>\n",
       "      <td>1761298</td>\n",
       "    </tr>\n",
       "    <tr>\n",
       "      <th>turnover</th>\n",
       "      <td>0</td>\n",
       "      <td>float64</td>\n",
       "      <td>1535537</td>\n",
       "      <td>225761</td>\n",
       "      <td>1761298</td>\n",
       "    </tr>\n",
       "    <tr>\n",
       "      <th>involve_cd</th>\n",
       "      <td>0</td>\n",
       "      <td>int64</td>\n",
       "      <td>4</td>\n",
       "      <td>1761294</td>\n",
       "      <td>1761298</td>\n",
       "    </tr>\n",
       "    <tr>\n",
       "      <th>client_segment</th>\n",
       "      <td>0</td>\n",
       "      <td>object</td>\n",
       "      <td>6</td>\n",
       "      <td>1761292</td>\n",
       "      <td>1761298</td>\n",
       "    </tr>\n",
       "    <tr>\n",
       "      <th>gender</th>\n",
       "      <td>0</td>\n",
       "      <td>object</td>\n",
       "      <td>4</td>\n",
       "      <td>1761294</td>\n",
       "      <td>1761298</td>\n",
       "    </tr>\n",
       "    <tr>\n",
       "      <th>age_gr</th>\n",
       "      <td>1</td>\n",
       "      <td>object</td>\n",
       "      <td>5</td>\n",
       "      <td>1761293</td>\n",
       "      <td>1761298</td>\n",
       "    </tr>\n",
       "  </tbody>\n",
       "</table>\n",
       "</div>"
      ],
      "text/plain": [
       "                count_NaN   dtypes     uniq   repeat    shape\n",
       "cust_id                 0   object  1761298        0  1761298\n",
       "mnth_gen                0   object       11  1761287  1761298\n",
       "turnover                0  float64  1535537   225761  1761298\n",
       "involve_cd              0    int64        4  1761294  1761298\n",
       "client_segment          0   object        6  1761292  1761298\n",
       "gender                  0   object        4  1761294  1761298\n",
       "age_gr                  1   object        5  1761293  1761298"
      ]
     },
     "execution_count": 55,
     "metadata": {},
     "output_type": "execute_result"
    }
   ],
   "source": [
    "data = pd.DataFrame()\n",
    "\n",
    "data.index =  synthesis_df.columns\n",
    "data['count_NaN'] = synthesis_df.isna().sum()\n",
    "data['dtypes'] = synthesis_df.dtypes\n",
    "data['uniq'] = synthesis_df.nunique()\n",
    "data['repeat'] = synthesis_df.shape[0] - data['uniq']\n",
    "data['shape'] = synthesis_df.shape[0]\n",
    "data"
   ]
  },
  {
   "cell_type": "code",
   "execution_count": 56,
   "metadata": {
    "id": "5GO_chw17gFB"
   },
   "outputs": [],
   "source": [
    "import random\n",
    "\n",
    "# Установка количества строк, которое вы хотите сохранить в итоговом датасете\n",
    "num_rows_to_keep = 100000\n",
    "\n",
    "# Проверка, что указанное количество строк меньше или равно общему количеству строк в исходном датасете\n",
    "if num_rows_to_keep <= len(synthesis_df):\n",
    "    # Случайный выбор указанного количества строк\n",
    "    random_indices = random.sample(range(len(synthesis_df)), num_rows_to_keep)\n",
    "    sampled_dataset = synthesis_df.iloc[random_indices]\n",
    "else:\n",
    "    print(\"Указанное количество строк больше, чем общее количество строк в исходном датасете\")\n",
    "\n",
    "synthesis_df = sampled_dataset.copy()"
   ]
  },
  {
   "cell_type": "code",
   "execution_count": 57,
   "metadata": {
    "id": "NZRk2end7gFB"
   },
   "outputs": [],
   "source": [
    "# Объединение учавствовавших в конкурсе\n",
    "participants = pd.concat([min_open_dt_non['cust_id'], min_open_dt['cust_id']], ignore_index=True)\n",
    "participants_l = participants.values.tolist()\n"
   ]
  },
  {
   "cell_type": "code",
   "execution_count": 58,
   "metadata": {
    "id": "C8GCDaHT7gFC"
   },
   "outputs": [],
   "source": [
    "participant_data = synthesis_df[synthesis_df['cust_id'].isin(participants_l)]\n",
    "non_participant_data = synthesis_df[~synthesis_df['cust_id'].isin(participants_l)]"
   ]
  },
  {
   "cell_type": "code",
   "execution_count": 59,
   "metadata": {
    "id": "05FMl_S-7gFC"
   },
   "outputs": [],
   "source": [
    "columns_of_interest = ['turnover', 'client_segment', 'gender', 'age_gr']\n",
    "participant_data_subset = participant_data[columns_of_interest]\n",
    "non_participant_data_subset = non_participant_data[columns_of_interest]"
   ]
  },
  {
   "cell_type": "code",
   "execution_count": 60,
   "metadata": {
    "colab": {
     "base_uri": "https://localhost:8080/",
     "height": 1000
    },
    "id": "GZ0JO3ai7gFC",
    "outputId": "5eacefac-62f2-4dfb-afb4-c13b5b2b7413"
   },
   "outputs": [
    {
     "name": "stderr",
     "output_type": "stream",
     "text": [
      "C:\\Users\\Bogdan\\AppData\\Local\\Temp\\ipykernel_23296\\855745752.py:4: SettingWithCopyWarning: \n",
      "A value is trying to be set on a copy of a slice from a DataFrame.\n",
      "Try using .loc[row_indexer,col_indexer] = value instead\n",
      "\n",
      "See the caveats in the documentation: https://pandas.pydata.org/pandas-docs/stable/user_guide/indexing.html#returning-a-view-versus-a-copy\n",
      "  participant_data_subset[col] = encoder.fit_transform(participant_data_subset[col])\n",
      "C:\\Users\\Bogdan\\AppData\\Local\\Temp\\ipykernel_23296\\855745752.py:4: SettingWithCopyWarning: \n",
      "A value is trying to be set on a copy of a slice from a DataFrame.\n",
      "Try using .loc[row_indexer,col_indexer] = value instead\n",
      "\n",
      "See the caveats in the documentation: https://pandas.pydata.org/pandas-docs/stable/user_guide/indexing.html#returning-a-view-versus-a-copy\n",
      "  participant_data_subset[col] = encoder.fit_transform(participant_data_subset[col])\n",
      "C:\\Users\\Bogdan\\AppData\\Local\\Temp\\ipykernel_23296\\855745752.py:4: SettingWithCopyWarning: \n",
      "A value is trying to be set on a copy of a slice from a DataFrame.\n",
      "Try using .loc[row_indexer,col_indexer] = value instead\n",
      "\n",
      "See the caveats in the documentation: https://pandas.pydata.org/pandas-docs/stable/user_guide/indexing.html#returning-a-view-versus-a-copy\n",
      "  participant_data_subset[col] = encoder.fit_transform(participant_data_subset[col])\n",
      "C:\\Users\\Bogdan\\AppData\\Local\\Temp\\ipykernel_23296\\855745752.py:6: SettingWithCopyWarning: \n",
      "A value is trying to be set on a copy of a slice from a DataFrame.\n",
      "Try using .loc[row_indexer,col_indexer] = value instead\n",
      "\n",
      "See the caveats in the documentation: https://pandas.pydata.org/pandas-docs/stable/user_guide/indexing.html#returning-a-view-versus-a-copy\n",
      "  non_participant_data_subset[col] = encoder.fit_transform(non_participant_data_subset[col])\n",
      "C:\\Users\\Bogdan\\AppData\\Local\\Temp\\ipykernel_23296\\855745752.py:6: SettingWithCopyWarning: \n",
      "A value is trying to be set on a copy of a slice from a DataFrame.\n",
      "Try using .loc[row_indexer,col_indexer] = value instead\n",
      "\n",
      "See the caveats in the documentation: https://pandas.pydata.org/pandas-docs/stable/user_guide/indexing.html#returning-a-view-versus-a-copy\n",
      "  non_participant_data_subset[col] = encoder.fit_transform(non_participant_data_subset[col])\n",
      "C:\\Users\\Bogdan\\AppData\\Local\\Temp\\ipykernel_23296\\855745752.py:6: SettingWithCopyWarning: \n",
      "A value is trying to be set on a copy of a slice from a DataFrame.\n",
      "Try using .loc[row_indexer,col_indexer] = value instead\n",
      "\n",
      "See the caveats in the documentation: https://pandas.pydata.org/pandas-docs/stable/user_guide/indexing.html#returning-a-view-versus-a-copy\n",
      "  non_participant_data_subset[col] = encoder.fit_transform(non_participant_data_subset[col])\n"
     ]
    },
    {
     "data": {
      "text/html": [
       "<div>\n",
       "<style scoped>\n",
       "    .dataframe tbody tr th:only-of-type {\n",
       "        vertical-align: middle;\n",
       "    }\n",
       "\n",
       "    .dataframe tbody tr th {\n",
       "        vertical-align: top;\n",
       "    }\n",
       "\n",
       "    .dataframe thead th {\n",
       "        text-align: right;\n",
       "    }\n",
       "</style>\n",
       "<table border=\"1\" class=\"dataframe\">\n",
       "  <thead>\n",
       "    <tr style=\"text-align: right;\">\n",
       "      <th></th>\n",
       "      <th>turnover</th>\n",
       "      <th>client_segment</th>\n",
       "      <th>gender</th>\n",
       "      <th>age_gr</th>\n",
       "    </tr>\n",
       "  </thead>\n",
       "  <tbody>\n",
       "    <tr>\n",
       "      <th>825802</th>\n",
       "      <td>46561.45</td>\n",
       "      <td>0</td>\n",
       "      <td>1</td>\n",
       "      <td>1</td>\n",
       "    </tr>\n",
       "    <tr>\n",
       "      <th>1977691</th>\n",
       "      <td>23300.23</td>\n",
       "      <td>1</td>\n",
       "      <td>1</td>\n",
       "      <td>0</td>\n",
       "    </tr>\n",
       "    <tr>\n",
       "      <th>1232278</th>\n",
       "      <td>54825.18</td>\n",
       "      <td>1</td>\n",
       "      <td>0</td>\n",
       "      <td>0</td>\n",
       "    </tr>\n",
       "    <tr>\n",
       "      <th>1080915</th>\n",
       "      <td>22521.77</td>\n",
       "      <td>0</td>\n",
       "      <td>0</td>\n",
       "      <td>3</td>\n",
       "    </tr>\n",
       "    <tr>\n",
       "      <th>736617</th>\n",
       "      <td>82034.40</td>\n",
       "      <td>1</td>\n",
       "      <td>0</td>\n",
       "      <td>1</td>\n",
       "    </tr>\n",
       "    <tr>\n",
       "      <th>...</th>\n",
       "      <td>...</td>\n",
       "      <td>...</td>\n",
       "      <td>...</td>\n",
       "      <td>...</td>\n",
       "    </tr>\n",
       "    <tr>\n",
       "      <th>195758</th>\n",
       "      <td>181502.39</td>\n",
       "      <td>1</td>\n",
       "      <td>1</td>\n",
       "      <td>0</td>\n",
       "    </tr>\n",
       "    <tr>\n",
       "      <th>316912</th>\n",
       "      <td>35905.22</td>\n",
       "      <td>0</td>\n",
       "      <td>0</td>\n",
       "      <td>0</td>\n",
       "    </tr>\n",
       "    <tr>\n",
       "      <th>834332</th>\n",
       "      <td>24178.78</td>\n",
       "      <td>0</td>\n",
       "      <td>1</td>\n",
       "      <td>0</td>\n",
       "    </tr>\n",
       "    <tr>\n",
       "      <th>2790686</th>\n",
       "      <td>21743.96</td>\n",
       "      <td>1</td>\n",
       "      <td>0</td>\n",
       "      <td>0</td>\n",
       "    </tr>\n",
       "    <tr>\n",
       "      <th>7263574</th>\n",
       "      <td>28760.56</td>\n",
       "      <td>0</td>\n",
       "      <td>0</td>\n",
       "      <td>0</td>\n",
       "    </tr>\n",
       "  </tbody>\n",
       "</table>\n",
       "<p>97421 rows × 4 columns</p>\n",
       "</div>"
      ],
      "text/plain": [
       "          turnover  client_segment  gender  age_gr\n",
       "825802    46561.45               0       1       1\n",
       "1977691   23300.23               1       1       0\n",
       "1232278   54825.18               1       0       0\n",
       "1080915   22521.77               0       0       3\n",
       "736617    82034.40               1       0       1\n",
       "...            ...             ...     ...     ...\n",
       "195758   181502.39               1       1       0\n",
       "316912    35905.22               0       0       0\n",
       "834332    24178.78               0       1       0\n",
       "2790686   21743.96               1       0       0\n",
       "7263574   28760.56               0       0       0\n",
       "\n",
       "[97421 rows x 4 columns]"
      ]
     },
     "execution_count": 60,
     "metadata": {},
     "output_type": "execute_result"
    }
   ],
   "source": [
    "encoder = LabelEncoder()\n",
    "cat_columns = ['client_segment', 'gender','age_gr']\n",
    "for col in cat_columns:\n",
    "    participant_data_subset[col] = encoder.fit_transform(participant_data_subset[col])\n",
    "for col in cat_columns:\n",
    "    non_participant_data_subset[col] = encoder.fit_transform(non_participant_data_subset[col])\n",
    "non_participant_data_subset\n"
   ]
  },
  {
   "cell_type": "code",
   "execution_count": 62,
   "metadata": {
    "colab": {
     "base_uri": "https://localhost:8080/"
    },
    "id": "gak5zpBe7gFC",
    "outputId": "5acfdc1d-2d58-40f2-972f-0da44a4ae53e"
   },
   "outputs": [
    {
     "name": "stderr",
     "output_type": "stream",
     "text": [
      "C:\\Users\\Bogdan\\AppData\\Local\\Temp\\ipykernel_23296\\4204164903.py:7: SettingWithCopyWarning: \n",
      "A value is trying to be set on a copy of a slice from a DataFrame.\n",
      "Try using .loc[row_indexer,col_indexer] = value instead\n",
      "\n",
      "See the caveats in the documentation: https://pandas.pydata.org/pandas-docs/stable/user_guide/indexing.html#returning-a-view-versus-a-copy\n",
      "  non_participant_data_subset[col] = non_participant_data_subset[col].astype(int)\n",
      "C:\\Users\\Bogdan\\AppData\\Local\\Temp\\ipykernel_23296\\4204164903.py:8: SettingWithCopyWarning: \n",
      "A value is trying to be set on a copy of a slice from a DataFrame.\n",
      "Try using .loc[row_indexer,col_indexer] = value instead\n",
      "\n",
      "See the caveats in the documentation: https://pandas.pydata.org/pandas-docs/stable/user_guide/indexing.html#returning-a-view-versus-a-copy\n",
      "  participant_data_subset[col] = participant_data_subset[col].astype(int)\n",
      "C:\\Users\\Bogdan\\AppData\\Local\\Temp\\ipykernel_23296\\4204164903.py:7: SettingWithCopyWarning: \n",
      "A value is trying to be set on a copy of a slice from a DataFrame.\n",
      "Try using .loc[row_indexer,col_indexer] = value instead\n",
      "\n",
      "See the caveats in the documentation: https://pandas.pydata.org/pandas-docs/stable/user_guide/indexing.html#returning-a-view-versus-a-copy\n",
      "  non_participant_data_subset[col] = non_participant_data_subset[col].astype(int)\n",
      "C:\\Users\\Bogdan\\AppData\\Local\\Temp\\ipykernel_23296\\4204164903.py:8: SettingWithCopyWarning: \n",
      "A value is trying to be set on a copy of a slice from a DataFrame.\n",
      "Try using .loc[row_indexer,col_indexer] = value instead\n",
      "\n",
      "See the caveats in the documentation: https://pandas.pydata.org/pandas-docs/stable/user_guide/indexing.html#returning-a-view-versus-a-copy\n",
      "  participant_data_subset[col] = participant_data_subset[col].astype(int)\n",
      "C:\\Users\\Bogdan\\AppData\\Local\\Temp\\ipykernel_23296\\4204164903.py:7: SettingWithCopyWarning: \n",
      "A value is trying to be set on a copy of a slice from a DataFrame.\n",
      "Try using .loc[row_indexer,col_indexer] = value instead\n",
      "\n",
      "See the caveats in the documentation: https://pandas.pydata.org/pandas-docs/stable/user_guide/indexing.html#returning-a-view-versus-a-copy\n",
      "  non_participant_data_subset[col] = non_participant_data_subset[col].astype(int)\n",
      "C:\\Users\\Bogdan\\AppData\\Local\\Temp\\ipykernel_23296\\4204164903.py:8: SettingWithCopyWarning: \n",
      "A value is trying to be set on a copy of a slice from a DataFrame.\n",
      "Try using .loc[row_indexer,col_indexer] = value instead\n",
      "\n",
      "See the caveats in the documentation: https://pandas.pydata.org/pandas-docs/stable/user_guide/indexing.html#returning-a-view-versus-a-copy\n",
      "  participant_data_subset[col] = participant_data_subset[col].astype(int)\n",
      "C:\\Users\\Bogdan\\AppData\\Local\\Temp\\ipykernel_23296\\4204164903.py:7: SettingWithCopyWarning: \n",
      "A value is trying to be set on a copy of a slice from a DataFrame.\n",
      "Try using .loc[row_indexer,col_indexer] = value instead\n",
      "\n",
      "See the caveats in the documentation: https://pandas.pydata.org/pandas-docs/stable/user_guide/indexing.html#returning-a-view-versus-a-copy\n",
      "  non_participant_data_subset[col] = non_participant_data_subset[col].astype(int)\n",
      "C:\\Users\\Bogdan\\AppData\\Local\\Temp\\ipykernel_23296\\4204164903.py:8: SettingWithCopyWarning: \n",
      "A value is trying to be set on a copy of a slice from a DataFrame.\n",
      "Try using .loc[row_indexer,col_indexer] = value instead\n",
      "\n",
      "See the caveats in the documentation: https://pandas.pydata.org/pandas-docs/stable/user_guide/indexing.html#returning-a-view-versus-a-copy\n",
      "  participant_data_subset[col] = participant_data_subset[col].astype(int)\n"
     ]
    }
   ],
   "source": [
    "columns_to_convert = list(non_participant_data_subset.columns)\n",
    "# columns_to_convert.remove(\"turnover\")\n",
    "columns_to_convert\n",
    "\n",
    "# # Loop through each column and change the data type to int\n",
    "for col in columns_to_convert:\n",
    "    non_participant_data_subset[col] = non_participant_data_subset[col].astype(int)\n",
    "    participant_data_subset[col] = participant_data_subset[col].astype(int)"
   ]
  },
  {
   "cell_type": "code",
   "execution_count": 63,
   "metadata": {
    "id": "SWs5D7Rj7gFD"
   },
   "outputs": [],
   "source": [
    "# Align the columns of non_participant_data_encoded with participant_data_encoded\n",
    "non_participant_data_encoded = participant_data_subset.reindex(columns=participant_data_subset.columns, fill_value=0)"
   ]
  },
  {
   "cell_type": "code",
   "execution_count": 64,
   "metadata": {
    "id": "fSSnu8nf7gFD"
   },
   "outputs": [],
   "source": [
    "non_participant_data_encoded = non_participant_data_subset.fillna(0)\n",
    "participant_data_encoded = participant_data_subset.fillna(0)"
   ]
  },
  {
   "cell_type": "code",
   "execution_count": 65,
   "metadata": {
    "colab": {
     "base_uri": "https://localhost:8080/",
     "height": 206
    },
    "id": "Pkzxt18l7gFE",
    "outputId": "d4928d38-70a8-4a43-9606-6899a9a730d7"
   },
   "outputs": [
    {
     "data": {
      "text/html": [
       "<div>\n",
       "<style scoped>\n",
       "    .dataframe tbody tr th:only-of-type {\n",
       "        vertical-align: middle;\n",
       "    }\n",
       "\n",
       "    .dataframe tbody tr th {\n",
       "        vertical-align: top;\n",
       "    }\n",
       "\n",
       "    .dataframe thead th {\n",
       "        text-align: right;\n",
       "    }\n",
       "</style>\n",
       "<table border=\"1\" class=\"dataframe\">\n",
       "  <thead>\n",
       "    <tr style=\"text-align: right;\">\n",
       "      <th></th>\n",
       "      <th>turnover</th>\n",
       "      <th>client_segment</th>\n",
       "      <th>gender</th>\n",
       "      <th>age_gr</th>\n",
       "    </tr>\n",
       "  </thead>\n",
       "  <tbody>\n",
       "    <tr>\n",
       "      <th>2313551</th>\n",
       "      <td>12812</td>\n",
       "      <td>0</td>\n",
       "      <td>0</td>\n",
       "      <td>0</td>\n",
       "    </tr>\n",
       "    <tr>\n",
       "      <th>610452</th>\n",
       "      <td>11281</td>\n",
       "      <td>1</td>\n",
       "      <td>0</td>\n",
       "      <td>3</td>\n",
       "    </tr>\n",
       "    <tr>\n",
       "      <th>1652427</th>\n",
       "      <td>57265</td>\n",
       "      <td>4</td>\n",
       "      <td>2</td>\n",
       "      <td>4</td>\n",
       "    </tr>\n",
       "    <tr>\n",
       "      <th>3792866</th>\n",
       "      <td>32018</td>\n",
       "      <td>1</td>\n",
       "      <td>1</td>\n",
       "      <td>0</td>\n",
       "    </tr>\n",
       "    <tr>\n",
       "      <th>1004231</th>\n",
       "      <td>145238</td>\n",
       "      <td>2</td>\n",
       "      <td>0</td>\n",
       "      <td>0</td>\n",
       "    </tr>\n",
       "  </tbody>\n",
       "</table>\n",
       "</div>"
      ],
      "text/plain": [
       "         turnover  client_segment  gender  age_gr\n",
       "2313551     12812               0       0       0\n",
       "610452      11281               1       0       3\n",
       "1652427     57265               4       2       4\n",
       "3792866     32018               1       1       0\n",
       "1004231    145238               2       0       0"
      ]
     },
     "execution_count": 65,
     "metadata": {},
     "output_type": "execute_result"
    }
   ],
   "source": [
    "participant_data_encoded.head()"
   ]
  },
  {
   "cell_type": "code",
   "execution_count": 66,
   "metadata": {
    "colab": {
     "base_uri": "https://localhost:8080/",
     "height": 175
    },
    "id": "cHYo6Lzk7gFE",
    "outputId": "b12dfda6-36ba-43d6-969a-9491aba55d1a"
   },
   "outputs": [
    {
     "data": {
      "text/html": [
       "<div>\n",
       "<style scoped>\n",
       "    .dataframe tbody tr th:only-of-type {\n",
       "        vertical-align: middle;\n",
       "    }\n",
       "\n",
       "    .dataframe tbody tr th {\n",
       "        vertical-align: top;\n",
       "    }\n",
       "\n",
       "    .dataframe thead th {\n",
       "        text-align: right;\n",
       "    }\n",
       "</style>\n",
       "<table border=\"1\" class=\"dataframe\">\n",
       "  <thead>\n",
       "    <tr style=\"text-align: right;\">\n",
       "      <th></th>\n",
       "      <th>count_NaN</th>\n",
       "      <th>dtypes</th>\n",
       "      <th>uniq</th>\n",
       "      <th>repeat</th>\n",
       "      <th>shape</th>\n",
       "    </tr>\n",
       "  </thead>\n",
       "  <tbody>\n",
       "    <tr>\n",
       "      <th>turnover</th>\n",
       "      <td>0</td>\n",
       "      <td>int32</td>\n",
       "      <td>54162</td>\n",
       "      <td>43259</td>\n",
       "      <td>97421</td>\n",
       "    </tr>\n",
       "    <tr>\n",
       "      <th>client_segment</th>\n",
       "      <td>0</td>\n",
       "      <td>int32</td>\n",
       "      <td>5</td>\n",
       "      <td>97416</td>\n",
       "      <td>97421</td>\n",
       "    </tr>\n",
       "    <tr>\n",
       "      <th>gender</th>\n",
       "      <td>0</td>\n",
       "      <td>int32</td>\n",
       "      <td>3</td>\n",
       "      <td>97418</td>\n",
       "      <td>97421</td>\n",
       "    </tr>\n",
       "    <tr>\n",
       "      <th>age_gr</th>\n",
       "      <td>0</td>\n",
       "      <td>int32</td>\n",
       "      <td>5</td>\n",
       "      <td>97416</td>\n",
       "      <td>97421</td>\n",
       "    </tr>\n",
       "  </tbody>\n",
       "</table>\n",
       "</div>"
      ],
      "text/plain": [
       "                count_NaN dtypes   uniq  repeat  shape\n",
       "turnover                0  int32  54162   43259  97421\n",
       "client_segment          0  int32      5   97416  97421\n",
       "gender                  0  int32      3   97418  97421\n",
       "age_gr                  0  int32      5   97416  97421"
      ]
     },
     "execution_count": 66,
     "metadata": {},
     "output_type": "execute_result"
    }
   ],
   "source": [
    "data = pd.DataFrame()\n",
    "\n",
    "data.index =  non_participant_data_subset.columns\n",
    "data['count_NaN'] = non_participant_data_subset.isna().sum()\n",
    "data['dtypes'] = non_participant_data_subset.dtypes\n",
    "data['uniq'] = non_participant_data_subset.nunique()\n",
    "data['repeat'] = non_participant_data_subset.shape[0] - data['uniq']\n",
    "data['shape'] = non_participant_data_subset.shape[0]\n",
    "data"
   ]
  },
  {
   "cell_type": "code",
   "execution_count": 67,
   "metadata": {
    "colab": {
     "base_uri": "https://localhost:8080/"
    },
    "id": "3i6bDAJ87gFD",
    "outputId": "4386b052-b9a9-4667-fe72-190ab99cfd02"
   },
   "outputs": [
    {
     "data": {
      "text/plain": [
       "(97421, 4)"
      ]
     },
     "execution_count": 67,
     "metadata": {},
     "output_type": "execute_result"
    }
   ],
   "source": [
    "non_participant_data_encoded.shape"
   ]
  },
  {
   "cell_type": "code",
   "execution_count": 68,
   "metadata": {
    "colab": {
     "base_uri": "https://localhost:8080/",
     "height": 423
    },
    "id": "6OF9ZbsC7gFE",
    "outputId": "df8d4a1a-52e8-4c59-975c-94bec0ed230e"
   },
   "outputs": [
    {
     "data": {
      "text/html": [
       "<div>\n",
       "<style scoped>\n",
       "    .dataframe tbody tr th:only-of-type {\n",
       "        vertical-align: middle;\n",
       "    }\n",
       "\n",
       "    .dataframe tbody tr th {\n",
       "        vertical-align: top;\n",
       "    }\n",
       "\n",
       "    .dataframe thead th {\n",
       "        text-align: right;\n",
       "    }\n",
       "</style>\n",
       "<table border=\"1\" class=\"dataframe\">\n",
       "  <thead>\n",
       "    <tr style=\"text-align: right;\">\n",
       "      <th></th>\n",
       "      <th>turnover</th>\n",
       "      <th>client_segment</th>\n",
       "      <th>gender</th>\n",
       "      <th>age_gr</th>\n",
       "    </tr>\n",
       "  </thead>\n",
       "  <tbody>\n",
       "    <tr>\n",
       "      <th>825802</th>\n",
       "      <td>46561</td>\n",
       "      <td>0</td>\n",
       "      <td>1</td>\n",
       "      <td>1</td>\n",
       "    </tr>\n",
       "    <tr>\n",
       "      <th>1977691</th>\n",
       "      <td>23300</td>\n",
       "      <td>1</td>\n",
       "      <td>1</td>\n",
       "      <td>0</td>\n",
       "    </tr>\n",
       "    <tr>\n",
       "      <th>1232278</th>\n",
       "      <td>54825</td>\n",
       "      <td>1</td>\n",
       "      <td>0</td>\n",
       "      <td>0</td>\n",
       "    </tr>\n",
       "    <tr>\n",
       "      <th>1080915</th>\n",
       "      <td>22521</td>\n",
       "      <td>0</td>\n",
       "      <td>0</td>\n",
       "      <td>3</td>\n",
       "    </tr>\n",
       "    <tr>\n",
       "      <th>736617</th>\n",
       "      <td>82034</td>\n",
       "      <td>1</td>\n",
       "      <td>0</td>\n",
       "      <td>1</td>\n",
       "    </tr>\n",
       "    <tr>\n",
       "      <th>...</th>\n",
       "      <td>...</td>\n",
       "      <td>...</td>\n",
       "      <td>...</td>\n",
       "      <td>...</td>\n",
       "    </tr>\n",
       "    <tr>\n",
       "      <th>195758</th>\n",
       "      <td>181502</td>\n",
       "      <td>1</td>\n",
       "      <td>1</td>\n",
       "      <td>0</td>\n",
       "    </tr>\n",
       "    <tr>\n",
       "      <th>316912</th>\n",
       "      <td>35905</td>\n",
       "      <td>0</td>\n",
       "      <td>0</td>\n",
       "      <td>0</td>\n",
       "    </tr>\n",
       "    <tr>\n",
       "      <th>834332</th>\n",
       "      <td>24178</td>\n",
       "      <td>0</td>\n",
       "      <td>1</td>\n",
       "      <td>0</td>\n",
       "    </tr>\n",
       "    <tr>\n",
       "      <th>2790686</th>\n",
       "      <td>21743</td>\n",
       "      <td>1</td>\n",
       "      <td>0</td>\n",
       "      <td>0</td>\n",
       "    </tr>\n",
       "    <tr>\n",
       "      <th>7263574</th>\n",
       "      <td>28760</td>\n",
       "      <td>0</td>\n",
       "      <td>0</td>\n",
       "      <td>0</td>\n",
       "    </tr>\n",
       "  </tbody>\n",
       "</table>\n",
       "<p>97421 rows × 4 columns</p>\n",
       "</div>"
      ],
      "text/plain": [
       "         turnover  client_segment  gender  age_gr\n",
       "825802      46561               0       1       1\n",
       "1977691     23300               1       1       0\n",
       "1232278     54825               1       0       0\n",
       "1080915     22521               0       0       3\n",
       "736617      82034               1       0       1\n",
       "...           ...             ...     ...     ...\n",
       "195758     181502               1       1       0\n",
       "316912      35905               0       0       0\n",
       "834332      24178               0       1       0\n",
       "2790686     21743               1       0       0\n",
       "7263574     28760               0       0       0\n",
       "\n",
       "[97421 rows x 4 columns]"
      ]
     },
     "execution_count": 68,
     "metadata": {},
     "output_type": "execute_result"
    }
   ],
   "source": [
    "non_participant_data_encoded"
   ]
  },
  {
   "cell_type": "code",
   "execution_count": 69,
   "metadata": {
    "id": "jyOCl_1_PHCp"
   },
   "outputs": [],
   "source": [
    "\n",
    "# Calculate Euclidean distance between participants and non-participants using PCA-transformed data\n",
    "# distance_matrix = euclidean_distances(non_participant_data_pca, participant_data_pca)\n",
    "# similarity_matrix = euclidean_distances(non_participant_data_subset, participant_data_encoded)\n",
    "similarity_scores = cosine_similarity(non_participant_data_subset, participant_data_encoded)"
   ]
  },
  {
   "cell_type": "code",
   "execution_count": 74,
   "metadata": {
    "colab": {
     "base_uri": "https://localhost:8080/"
    },
    "id": "4smuLWIp7gFE",
    "outputId": "2f5a8c79-e647-4531-e758-4cdf74b49983"
   },
   "outputs": [
    {
     "name": "stdout",
     "output_type": "stream",
     "text": [
      "         turnover  client_segment  gender  age_gr\n",
      "550370      47109               0       1       1\n",
      "2605576     23076               1       1       0\n",
      "158981      54660               1       0       0\n",
      "318945      22489               0       0       3\n",
      "313178      83497               1       0       1\n",
      "...           ...             ...     ...     ...\n",
      "1205706    190957               1       1       0\n",
      "2313551     12812               0       0       0\n",
      "1867029     24178               0       1       0\n",
      "480849      43574               2       0       0\n",
      "2313551     12812               0       0       0\n",
      "\n",
      "[97421 rows x 4 columns]\n"
     ]
    }
   ],
   "source": [
    "# Find indices of control group members with highest similarity to each treatment group member\n",
    "synthetic_control_indices = np.argmax(similarity_scores, axis=1)\n",
    "\n",
    "# Select the synthetic control group\n",
    "synthetic_control_group = participant_data_encoded.iloc[synthetic_control_indices]\n",
    "\n",
    "# Print the synthetic control group\n",
    "print(synthetic_control_group)\n",
    "\n",
    "\n"
   ]
  },
  {
   "cell_type": "code",
   "execution_count": 93,
   "metadata": {
    "colab": {
     "base_uri": "https://localhost:8080/",
     "height": 35
    },
    "id": "0z0rFWWtTmro",
    "outputId": "bd758636-a192-4687-e389-8c494a405052"
   },
   "outputs": [
    {
     "name": "stdout",
     "output_type": "stream",
     "text": [
      "sythetic group turnover is  3335486972\n"
     ]
    }
   ],
   "source": [
    "total_revenue_synthetic = synthetic_control_group['turnover'].sum()\n",
    "print(f\"sythetic group turnover is \", total_revenue_synthetic)"
   ]
  },
  {
   "cell_type": "code",
   "execution_count": 94,
   "metadata": {
    "colab": {
     "base_uri": "https://localhost:8080/",
     "height": 35
    },
    "id": "kTRIMHvcUQ6J",
    "outputId": "0e2ac147-029c-43db-bcec-0b247a1a147a"
   },
   "outputs": [
    {
     "data": {
      "text/plain": [
       "'sythetic group bank commision is 33354869.720000003'"
      ]
     },
     "execution_count": 94,
     "metadata": {},
     "output_type": "execute_result"
    }
   ],
   "source": [
    "#calculate sythetic group 1% bank comission\n",
    "bank_commission_synthetic = 0.01 * total_revenue_synthetic\n",
    "bank_commission_synthetic_str = \"sythetic group bank commision is \" + str(bank_commission_synthetic)\n",
    "bank_commission_synthetic_str\n"
   ]
  },
  {
   "cell_type": "code",
   "execution_count": 96,
   "metadata": {
    "colab": {
     "base_uri": "https://localhost:8080/",
     "height": 35
    },
    "id": "-r_Jc5j-UMt_",
    "outputId": "17b7640d-fc00-41d5-c79f-231228c748ea"
   },
   "outputs": [
    {
     "name": "stdout",
     "output_type": "stream",
     "text": [
      "total_sum_of_transactions  338606530.03\n"
     ]
    }
   ],
   "source": [
    "# test group turnover\n",
    "print(f'total_sum_of_transactions ',total_sum_of_transactions)"
   ]
  },
  {
   "cell_type": "code",
   "execution_count": 79,
   "metadata": {
    "colab": {
     "base_uri": "https://localhost:8080/",
     "height": 35
    },
    "id": "qA0kR9m0WM8U",
    "outputId": "4ec74131-d4d4-46c7-95b6-05c7ee9f1852"
   },
   "outputs": [
    {
     "data": {
      "text/plain": [
       "'Total_bank_commision_ is 3386065.3003'"
      ]
     },
     "execution_count": 79,
     "metadata": {},
     "output_type": "execute_result"
    }
   ],
   "source": [
    "total_bank_commission_str = \"Total_bank_commision_ is \" + str(bank_commission)\n",
    "total_bank_commission_str\n"
   ]
  },
  {
   "cell_type": "code",
   "execution_count": 80,
   "metadata": {
    "colab": {
     "base_uri": "https://localhost:8080/",
     "height": 35
    },
    "id": "4KbVBPrvVQUB",
    "outputId": "1b0a57fd-e76a-421f-cb6e-99d1492360d7"
   },
   "outputs": [
    {
     "data": {
      "text/plain": [
       "'Total_cashback_sum is 5599846.260000001'"
      ]
     },
     "execution_count": 80,
     "metadata": {},
     "output_type": "execute_result"
    }
   ],
   "source": [
    "total_cashback_sum_str = \"Total_cashback_sum is \" + str(total_cashback)\n",
    "total_cashback_sum_str"
   ]
  },
  {
   "cell_type": "code",
   "execution_count": 102,
   "metadata": {
    "colab": {
     "base_uri": "https://localhost:8080/"
    },
    "id": "1yeW1b4wWeVY",
    "outputId": "2f1b1242-a940-4dfd-ae62-9f489ac70aea"
   },
   "outputs": [
    {
     "data": {
      "text/plain": [
       "2996880441.9700003"
      ]
     },
     "execution_count": 102,
     "metadata": {},
     "output_type": "execute_result"
    }
   ],
   "source": [
    "revenue_uplift = total_revenue_synthetic - total_sum_of_transactions\n",
    "revenue_uplift"
   ]
  },
  {
   "cell_type": "markdown",
   "metadata": {
    "id": "gdJoqxhBE8zZ"
   },
   "source": [
    "### Other background calculation"
   ]
  },
  {
   "cell_type": "code",
   "execution_count": 82,
   "metadata": {
    "colab": {
     "base_uri": "https://localhost:8080/"
    },
    "id": "ZrCqjP1kvp6K",
    "outputId": "ba7f244f-d365-4a82-bba6-529cabf7e8b8"
   },
   "outputs": [
    {
     "data": {
      "text/html": [
       "<div>\n",
       "<style scoped>\n",
       "    .dataframe tbody tr th:only-of-type {\n",
       "        vertical-align: middle;\n",
       "    }\n",
       "\n",
       "    .dataframe tbody tr th {\n",
       "        vertical-align: top;\n",
       "    }\n",
       "\n",
       "    .dataframe thead th {\n",
       "        text-align: right;\n",
       "    }\n",
       "</style>\n",
       "<table border=\"1\" class=\"dataframe\">\n",
       "  <thead>\n",
       "    <tr style=\"text-align: right;\">\n",
       "      <th></th>\n",
       "      <th>cust_id</th>\n",
       "      <th>open_dt</th>\n",
       "      <th>contact_dt_x</th>\n",
       "      <th>transaction_dt</th>\n",
       "      <th>mcc_id</th>\n",
       "      <th>txn_sum</th>\n",
       "      <th>channel_type</th>\n",
       "      <th>contact_dt_y</th>\n",
       "      <th>control_group_flg</th>\n",
       "      <th>sent</th>\n",
       "      <th>delivered</th>\n",
       "      <th>opened</th>\n",
       "      <th>clicked</th>\n",
       "      <th>blocked</th>\n",
       "    </tr>\n",
       "  </thead>\n",
       "  <tbody>\n",
       "    <tr>\n",
       "      <th>0</th>\n",
       "      <td>0173cda6233b66...</td>\n",
       "      <td>2021-08-10</td>\n",
       "      <td>0</td>\n",
       "      <td>2021-08-15</td>\n",
       "      <td>7512</td>\n",
       "      <td>500.00</td>\n",
       "      <td>PUSH</td>\n",
       "      <td>2021-08-12</td>\n",
       "      <td>1</td>\n",
       "      <td>0</td>\n",
       "      <td>0</td>\n",
       "      <td>0</td>\n",
       "      <td>0</td>\n",
       "      <td>0</td>\n",
       "    </tr>\n",
       "    <tr>\n",
       "      <th>1</th>\n",
       "      <td>0173cda6233b66...</td>\n",
       "      <td>2021-08-10</td>\n",
       "      <td>0</td>\n",
       "      <td>2021-08-11</td>\n",
       "      <td>7011</td>\n",
       "      <td>881.01</td>\n",
       "      <td>PUSH</td>\n",
       "      <td>2021-08-12</td>\n",
       "      <td>1</td>\n",
       "      <td>0</td>\n",
       "      <td>0</td>\n",
       "      <td>0</td>\n",
       "      <td>0</td>\n",
       "      <td>0</td>\n",
       "    </tr>\n",
       "    <tr>\n",
       "      <th>2</th>\n",
       "      <td>01940312c125c3...</td>\n",
       "      <td>2021-08-25</td>\n",
       "      <td>0</td>\n",
       "      <td>2021-09-07</td>\n",
       "      <td>5411</td>\n",
       "      <td>169.00</td>\n",
       "      <td>PUSH</td>\n",
       "      <td>2021-08-12</td>\n",
       "      <td>1</td>\n",
       "      <td>0</td>\n",
       "      <td>0</td>\n",
       "      <td>0</td>\n",
       "      <td>0</td>\n",
       "      <td>0</td>\n",
       "    </tr>\n",
       "    <tr>\n",
       "      <th>3</th>\n",
       "      <td>01940312c125c3...</td>\n",
       "      <td>2021-08-25</td>\n",
       "      <td>0</td>\n",
       "      <td>2021-09-12</td>\n",
       "      <td>7994</td>\n",
       "      <td>25.00</td>\n",
       "      <td>PUSH</td>\n",
       "      <td>2021-08-12</td>\n",
       "      <td>1</td>\n",
       "      <td>0</td>\n",
       "      <td>0</td>\n",
       "      <td>0</td>\n",
       "      <td>0</td>\n",
       "      <td>0</td>\n",
       "    </tr>\n",
       "    <tr>\n",
       "      <th>4</th>\n",
       "      <td>01940312c125c3...</td>\n",
       "      <td>2021-08-25</td>\n",
       "      <td>0</td>\n",
       "      <td>2021-09-07</td>\n",
       "      <td>5411</td>\n",
       "      <td>1866.50</td>\n",
       "      <td>PUSH</td>\n",
       "      <td>2021-08-12</td>\n",
       "      <td>1</td>\n",
       "      <td>0</td>\n",
       "      <td>0</td>\n",
       "      <td>0</td>\n",
       "      <td>0</td>\n",
       "      <td>0</td>\n",
       "    </tr>\n",
       "    <tr>\n",
       "      <th>...</th>\n",
       "      <td>...</td>\n",
       "      <td>...</td>\n",
       "      <td>...</td>\n",
       "      <td>...</td>\n",
       "      <td>...</td>\n",
       "      <td>...</td>\n",
       "      <td>...</td>\n",
       "      <td>...</td>\n",
       "      <td>...</td>\n",
       "      <td>...</td>\n",
       "      <td>...</td>\n",
       "      <td>...</td>\n",
       "      <td>...</td>\n",
       "      <td>...</td>\n",
       "    </tr>\n",
       "    <tr>\n",
       "      <th>4322</th>\n",
       "      <td>fc7de3b3687298...</td>\n",
       "      <td>2021-08-09</td>\n",
       "      <td>0</td>\n",
       "      <td>2021-08-12</td>\n",
       "      <td>5977</td>\n",
       "      <td>2054.66</td>\n",
       "      <td>EMAIL</td>\n",
       "      <td>2021-08-13</td>\n",
       "      <td>1</td>\n",
       "      <td>0</td>\n",
       "      <td>0</td>\n",
       "      <td>0</td>\n",
       "      <td>0</td>\n",
       "      <td>0</td>\n",
       "    </tr>\n",
       "    <tr>\n",
       "      <th>4323</th>\n",
       "      <td>fc7de3b3687298...</td>\n",
       "      <td>2021-08-09</td>\n",
       "      <td>0</td>\n",
       "      <td>2021-08-16</td>\n",
       "      <td>5912</td>\n",
       "      <td>30.00</td>\n",
       "      <td>EMAIL</td>\n",
       "      <td>2021-08-13</td>\n",
       "      <td>1</td>\n",
       "      <td>0</td>\n",
       "      <td>0</td>\n",
       "      <td>0</td>\n",
       "      <td>0</td>\n",
       "      <td>0</td>\n",
       "    </tr>\n",
       "    <tr>\n",
       "      <th>4324</th>\n",
       "      <td>fc7de3b3687298...</td>\n",
       "      <td>2021-08-09</td>\n",
       "      <td>0</td>\n",
       "      <td>2021-09-12</td>\n",
       "      <td>5814</td>\n",
       "      <td>40.00</td>\n",
       "      <td>EMAIL</td>\n",
       "      <td>2021-08-13</td>\n",
       "      <td>1</td>\n",
       "      <td>0</td>\n",
       "      <td>0</td>\n",
       "      <td>0</td>\n",
       "      <td>0</td>\n",
       "      <td>0</td>\n",
       "    </tr>\n",
       "    <tr>\n",
       "      <th>4325</th>\n",
       "      <td>fc7de3b3687298...</td>\n",
       "      <td>2021-08-09</td>\n",
       "      <td>0</td>\n",
       "      <td>2021-09-14</td>\n",
       "      <td>5912</td>\n",
       "      <td>405.00</td>\n",
       "      <td>EMAIL</td>\n",
       "      <td>2021-08-13</td>\n",
       "      <td>1</td>\n",
       "      <td>0</td>\n",
       "      <td>0</td>\n",
       "      <td>0</td>\n",
       "      <td>0</td>\n",
       "      <td>0</td>\n",
       "    </tr>\n",
       "    <tr>\n",
       "      <th>4326</th>\n",
       "      <td>fc7de3b3687298...</td>\n",
       "      <td>2021-08-09</td>\n",
       "      <td>0</td>\n",
       "      <td>2021-08-30</td>\n",
       "      <td>5499</td>\n",
       "      <td>66.00</td>\n",
       "      <td>EMAIL</td>\n",
       "      <td>2021-08-13</td>\n",
       "      <td>1</td>\n",
       "      <td>0</td>\n",
       "      <td>0</td>\n",
       "      <td>0</td>\n",
       "      <td>0</td>\n",
       "      <td>0</td>\n",
       "    </tr>\n",
       "  </tbody>\n",
       "</table>\n",
       "<p>4327 rows × 14 columns</p>\n",
       "</div>"
      ],
      "text/plain": [
       "                cust_id     open_dt  contact_dt_x transaction_dt  mcc_id  \\\n",
       "0     0173cda6233b66...  2021-08-10             0     2021-08-15    7512   \n",
       "1     0173cda6233b66...  2021-08-10             0     2021-08-11    7011   \n",
       "2     01940312c125c3...  2021-08-25             0     2021-09-07    5411   \n",
       "3     01940312c125c3...  2021-08-25             0     2021-09-12    7994   \n",
       "4     01940312c125c3...  2021-08-25             0     2021-09-07    5411   \n",
       "...                 ...         ...           ...            ...     ...   \n",
       "4322  fc7de3b3687298...  2021-08-09             0     2021-08-12    5977   \n",
       "4323  fc7de3b3687298...  2021-08-09             0     2021-08-16    5912   \n",
       "4324  fc7de3b3687298...  2021-08-09             0     2021-09-12    5814   \n",
       "4325  fc7de3b3687298...  2021-08-09             0     2021-09-14    5912   \n",
       "4326  fc7de3b3687298...  2021-08-09             0     2021-08-30    5499   \n",
       "\n",
       "      txn_sum channel_type contact_dt_y  control_group_flg  sent  delivered  \\\n",
       "0      500.00         PUSH   2021-08-12                  1     0          0   \n",
       "1      881.01         PUSH   2021-08-12                  1     0          0   \n",
       "2      169.00         PUSH   2021-08-12                  1     0          0   \n",
       "3       25.00         PUSH   2021-08-12                  1     0          0   \n",
       "4     1866.50         PUSH   2021-08-12                  1     0          0   \n",
       "...       ...          ...          ...                ...   ...        ...   \n",
       "4322  2054.66        EMAIL   2021-08-13                  1     0          0   \n",
       "4323    30.00        EMAIL   2021-08-13                  1     0          0   \n",
       "4324    40.00        EMAIL   2021-08-13                  1     0          0   \n",
       "4325   405.00        EMAIL   2021-08-13                  1     0          0   \n",
       "4326    66.00        EMAIL   2021-08-13                  1     0          0   \n",
       "\n",
       "      opened  clicked  blocked  \n",
       "0          0        0        0  \n",
       "1          0        0        0  \n",
       "2          0        0        0  \n",
       "3          0        0        0  \n",
       "4          0        0        0  \n",
       "...      ...      ...      ...  \n",
       "4322       0        0        0  \n",
       "4323       0        0        0  \n",
       "4324       0        0        0  \n",
       "4325       0        0        0  \n",
       "4326       0        0        0  \n",
       "\n",
       "[4327 rows x 14 columns]"
      ]
     },
     "execution_count": 82,
     "metadata": {},
     "output_type": "execute_result"
    }
   ],
   "source": [
    "## Check if market campaign have been send to non-participant in the control group\n",
    "control_group_financial = pd.merge(merged_control_group, visa_communications_df, on='cust_id', how='inner')\n",
    "\n",
    "# Display the first few rows of the merged dataframe\n",
    "control_group_financial"
   ]
  },
  {
   "cell_type": "code",
   "execution_count": 83,
   "metadata": {
    "colab": {
     "base_uri": "https://localhost:8080/"
    },
    "id": "-WuFGOfZEOSm",
    "outputId": "0326c824-3bc9-49a7-cbe5-44ffc891d4bd"
   },
   "outputs": [
    {
     "data": {
      "text/html": [
       "<div>\n",
       "<style scoped>\n",
       "    .dataframe tbody tr th:only-of-type {\n",
       "        vertical-align: middle;\n",
       "    }\n",
       "\n",
       "    .dataframe tbody tr th {\n",
       "        vertical-align: top;\n",
       "    }\n",
       "\n",
       "    .dataframe thead th {\n",
       "        text-align: right;\n",
       "    }\n",
       "</style>\n",
       "<table border=\"1\" class=\"dataframe\">\n",
       "  <thead>\n",
       "    <tr style=\"text-align: right;\">\n",
       "      <th></th>\n",
       "      <th>cust_id</th>\n",
       "      <th>open_dt</th>\n",
       "      <th>contact_dt_x</th>\n",
       "      <th>transaction_dt</th>\n",
       "      <th>mcc_id</th>\n",
       "      <th>txn_sum</th>\n",
       "      <th>channel_type</th>\n",
       "      <th>contact_dt_y</th>\n",
       "      <th>control_group_flg</th>\n",
       "      <th>sent</th>\n",
       "      <th>delivered</th>\n",
       "      <th>opened</th>\n",
       "      <th>clicked</th>\n",
       "      <th>blocked</th>\n",
       "    </tr>\n",
       "  </thead>\n",
       "  <tbody>\n",
       "  </tbody>\n",
       "</table>\n",
       "</div>"
      ],
      "text/plain": [
       "Empty DataFrame\n",
       "Columns: [cust_id, open_dt, contact_dt_x, transaction_dt, mcc_id, txn_sum, channel_type, contact_dt_y, control_group_flg, sent, delivered, opened, clicked, blocked]\n",
       "Index: []"
      ]
     },
     "execution_count": 83,
     "metadata": {},
     "output_type": "execute_result"
    }
   ],
   "source": [
    "control_group_campaign = control_group_financial[control_group_financial['sent'] == 1]\n",
    "control_group_campaign"
   ]
  },
  {
   "cell_type": "markdown",
   "metadata": {
    "id": "M9B3WLXGFURS"
   },
   "source": [
    "so there's no non-participant to whom market campaign has been sent"
   ]
  }
 ],
 "metadata": {
  "colab": {
   "provenance": []
  },
  "kernelspec": {
   "display_name": "3.10.11",
   "language": "python",
   "name": "python3"
  },
  "language_info": {
   "codemirror_mode": {
    "name": "ipython",
    "version": 3
   },
   "file_extension": ".py",
   "mimetype": "text/x-python",
   "name": "python",
   "nbconvert_exporter": "python",
   "pygments_lexer": "ipython3",
   "version": "3.10.11"
  }
 },
 "nbformat": 4,
 "nbformat_minor": 4
}
